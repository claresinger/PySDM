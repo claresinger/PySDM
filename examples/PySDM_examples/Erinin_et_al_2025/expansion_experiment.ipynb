{
 "cells": [
  {
   "cell_type": "markdown",
   "metadata": {},
   "source": [
    "[![preview notebook](https://img.shields.io/static/v1?label=render%20on&logo=github&color=87ce3e&message=GitHub)](https://github.com/open-atmos/PySDM/blob/main/examples/PySDM_examples/expansion_chamber/expansion_experiment.ipynb)\n",
    "[![launch on mybinder.org](https://mybinder.org/badge_logo.svg)](https://mybinder.org/v2/gh/open-atmos/PySDM.git/main?urlpath=lab/tree/examples/PySDM_examples/expansion_chamber/expansion_experiment.ipynb)\n",
    "[![launch on Colab](https://colab.research.google.com/assets/colab-badge.svg)](https://colab.research.google.com/github/open-atmos/PySDM/blob/main/examples/PySDM_examples/expansion_chamber/expansion_experiment.ipynb)"
   ]
  },
  {
   "cell_type": "markdown",
   "metadata": {},
   "source": [
    "modeling expansion-chamber experiments described in [Erinin et al. 2025](https://doi.org/10.48550/arXiv.2501.01467)"
   ]
  },
  {
   "cell_type": "code",
   "execution_count": null,
   "metadata": {
    "ExecuteTime": {
     "end_time": "2025-01-30T20:21:31.584604Z",
     "start_time": "2025-01-30T20:21:31.573353Z"
    }
   },
   "outputs": [],
   "source": [
    "import sys\n",
    "if 'google.colab' in sys.modules:\n",
    "    !pip --quiet install open-atmos-jupyter-utils\n",
    "    from open_atmos_jupyter_utils import pip_install_on_colab\n",
    "    pip_install_on_colab('PySDM-examples')"
   ]
  },
  {
   "cell_type": "code",
   "execution_count": 1,
   "metadata": {
    "ExecuteTime": {
     "end_time": "2025-01-30T20:21:37.280272Z",
     "start_time": "2025-01-30T20:21:31.850352Z"
    }
   },
   "outputs": [],
   "source": [
    "import numpy as np\n",
    "from matplotlib import pyplot\n",
    "from open_atmos_jupyter_utils import show_plot\n",
    "from PySDM import Formulae\n",
    "from PySDM.physics import si\n",
    "\n",
    "from PySDM_examples.Erinin_et_al_2025.aerosol import AerosolChamber\n",
    "from PySDM_examples.Erinin_et_al_2025.expansion_simulation import run_expansion"
   ]
  },
  {
   "cell_type": "code",
   "execution_count": 2,
   "metadata": {
    "ExecuteTime": {
     "end_time": "2025-01-30T20:23:04.715504Z",
     "start_time": "2025-01-30T20:21:37.309294Z"
    }
   },
   "outputs": [
    {
     "ename": "IndexError",
     "evalue": "index 20 is out of bounds for axis 0 with size 20",
     "output_type": "error",
     "traceback": [
      "\u001b[0;31m---------------------------------------------------------------------------\u001b[0m",
      "\u001b[0;31mIndexError\u001b[0m                                Traceback (most recent call last)",
      "\u001b[0;32m/var/folders/j_/wj_gdgdx2jdbw7vwy0bnq5hm0000gn/T/ipykernel_77818/519356353.py\u001b[0m in \u001b[0;36m<module>\u001b[0;34m\u001b[0m\n\u001b[1;32m     20\u001b[0m         )\n\u001b[1;32m     21\u001b[0m \u001b[0;34m\u001b[0m\u001b[0m\n\u001b[0;32m---> 22\u001b[0;31m     \u001b[0moutput\u001b[0m \u001b[0;34m=\u001b[0m \u001b[0mrun_expansion\u001b[0m\u001b[0;34m(\u001b[0m\u001b[0mformulae\u001b[0m\u001b[0;34m,\u001b[0m \u001b[0maerosol\u001b[0m\u001b[0;34m,\u001b[0m \u001b[0mn_sd_per_mode\u001b[0m\u001b[0;34m,\u001b[0m \u001b[0mtotal_time\u001b[0m\u001b[0;34m=\u001b[0m\u001b[0;36m4\u001b[0m\u001b[0;34m*\u001b[0m\u001b[0msi\u001b[0m\u001b[0;34m.\u001b[0m\u001b[0ms\u001b[0m\u001b[0;34m,\u001b[0m \u001b[0mdt\u001b[0m\u001b[0;34m=\u001b[0m\u001b[0mDT\u001b[0m\u001b[0;34m)\u001b[0m\u001b[0;34m\u001b[0m\u001b[0;34m\u001b[0m\u001b[0m\n\u001b[0m\u001b[1;32m     23\u001b[0m \u001b[0;34m\u001b[0m\u001b[0m\n\u001b[1;32m     24\u001b[0m     \u001b[0;32mfor\u001b[0m \u001b[0mi\u001b[0m\u001b[0;34m,\u001b[0m\u001b[0max\u001b[0m \u001b[0;32min\u001b[0m \u001b[0menumerate\u001b[0m\u001b[0;34m(\u001b[0m\u001b[0maxes\u001b[0m\u001b[0;34m.\u001b[0m\u001b[0mflatten\u001b[0m\u001b[0;34m(\u001b[0m\u001b[0;34m)\u001b[0m\u001b[0;34m)\u001b[0m\u001b[0;34m:\u001b[0m\u001b[0;34m\u001b[0m\u001b[0;34m\u001b[0m\u001b[0m\n",
      "\u001b[0;32m~/Research/PySDM/examples/PySDM_examples/Erinin_et_al_2025/expansion_simulation.py\u001b[0m in \u001b[0;36mrun_expansion\u001b[0;34m(formulae, aerosol, n_sd_per_mode, n_sd_homo_liq_nucleation, RH0, T0, p0, pf, delta_time, total_time, dt, volume)\u001b[0m\n\u001b[1;32m    139\u001b[0m             \u001b[0mattr_data\u001b[0m \u001b[0;34m=\u001b[0m \u001b[0mparticulator\u001b[0m\u001b[0;34m.\u001b[0m\u001b[0mattributes\u001b[0m\u001b[0;34m[\u001b[0m\u001b[0mkey\u001b[0m\u001b[0;34m]\u001b[0m\u001b[0;34m.\u001b[0m\u001b[0mto_ndarray\u001b[0m\u001b[0;34m(\u001b[0m\u001b[0;34m)\u001b[0m\u001b[0;34m\u001b[0m\u001b[0;34m\u001b[0m\u001b[0m\n\u001b[1;32m    140\u001b[0m             \u001b[0;32mfor\u001b[0m \u001b[0mdrop_id\u001b[0m \u001b[0;32min\u001b[0m \u001b[0mrange\u001b[0m\u001b[0;34m(\u001b[0m\u001b[0mparticulator\u001b[0m\u001b[0;34m.\u001b[0m\u001b[0mn_sd\u001b[0m\u001b[0;34m)\u001b[0m\u001b[0;34m:\u001b[0m\u001b[0;34m\u001b[0m\u001b[0;34m\u001b[0m\u001b[0m\n\u001b[0;32m--> 141\u001b[0;31m                 \u001b[0mattr\u001b[0m\u001b[0;34m[\u001b[0m\u001b[0mdrop_id\u001b[0m\u001b[0;34m]\u001b[0m\u001b[0;34m.\u001b[0m\u001b[0mappend\u001b[0m\u001b[0;34m(\u001b[0m\u001b[0mattr_data\u001b[0m\u001b[0;34m[\u001b[0m\u001b[0mdrop_id\u001b[0m\u001b[0;34m]\u001b[0m\u001b[0;34m)\u001b[0m\u001b[0;34m\u001b[0m\u001b[0;34m\u001b[0m\u001b[0m\n\u001b[0m\u001b[1;32m    142\u001b[0m \u001b[0;34m\u001b[0m\u001b[0m\n\u001b[1;32m    143\u001b[0m     \u001b[0mdry_spectrum\u001b[0m \u001b[0;34m=\u001b[0m \u001b[0mparticulator\u001b[0m\u001b[0;34m.\u001b[0m\u001b[0mproducts\u001b[0m\u001b[0;34m[\u001b[0m\u001b[0;34m\"dry:dN/dR\"\u001b[0m\u001b[0;34m]\u001b[0m\u001b[0;34m.\u001b[0m\u001b[0mget\u001b[0m\u001b[0;34m(\u001b[0m\u001b[0;34m)\u001b[0m\u001b[0;34m\u001b[0m\u001b[0;34m\u001b[0m\u001b[0m\n",
      "\u001b[0;31mIndexError\u001b[0m: index 20 is out of bounds for axis 0 with size 20"
     ]
    },
    {
     "data": {
      "image/png": "[encoded data removed]",
      "text/plain": [
       "<Figure size 720x360 with 6 Axes>"
      ]
     },
     "metadata": {
      "needs_background": "light"
     },
     "output_type": "display_data"
    }
   ],
   "source": [
    "n_sd_per_mode = 20\n",
    "DT = .1 * si.s\n",
    "\n",
    "variables = [\"p\", \"T\", \"s\", \"water_vapour_mixing_ratio\", \"liquid_water_mixing_ratio\", \"reff\"]\n",
    "offsets = [0, -273.15, 1, 0, 0, 0]\n",
    "factors = [1/100, 1, 1, 1, 1, 1]\n",
    "ylabels = [\"Pressure [hPa]\", \"Temperature [°C]\", \"Saturation ratio\", \"$q_v$ [g kg$^{-1}$]\", \"$q_\\ell$ [g kg$^{-1}$]\", \"$r_{eff}$ [$\\mu$m]\"]\n",
    "fig,axes=pyplot.subplots(2,3,figsize=(10,5),sharex=True,sharey=False,constrained_layout=True)\n",
    "\n",
    "for Na in [1e1, 1e3, 1e5]: #[1, 10, 100, 1000, 10000, 100000]:\n",
    "\n",
    "    formulae = Formulae(\n",
    "        adiabatic_exponent=\"MoistLeadingTerms\",\n",
    "        homogeneous_liquid_nucleation_rate='CNT',\n",
    "    )\n",
    "    const = formulae.constants\n",
    "    aerosol = AerosolChamber(\n",
    "            water_molar_volume=const.Mv / const.rho_w,\n",
    "            N=Na / si.cm**3,\n",
    "        )\n",
    "\n",
    "    output = run_expansion(formulae, aerosol, n_sd_per_mode, total_time=4*si.s, dt=DT)\n",
    "    \n",
    "    for i,ax in enumerate(axes.flatten()):\n",
    "        y = np.array(output.profile[variables[i]]) * factors[i] + offsets[i]\n",
    "        ax.plot(output.profile[\"t\"], y, label=f\"{Na:.0e}\")\n",
    "        # if i == 2:\n",
    "        #     ax.set_yscale(\"log\")\n",
    "        ax.set_xlabel(\"Time [s]\")\n",
    "        ax.set_ylabel(ylabels[i])\n",
    "\n",
    "axes[0,0].legend(title=\"$C_0$ [cm$^{-3}$]\")\n",
    "show_plot(\"C0_sweep_traces.pdf\")"
   ]
  },
  {
   "cell_type": "code",
   "execution_count": null,
   "metadata": {
    "ExecuteTime": {
     "end_time": "2025-01-30T20:23:04.785100072Z",
     "start_time": "2025-01-26T23:04:07.407334Z"
    }
   },
   "outputs": [],
   "source": [
    "n_sd_per_mode = 20\n",
    "\n",
    "p0 = 1000 * si.hPa\n",
    "dp = np.insert(np.linspace(100,600,11),0,1) * si.hPa\n",
    "Tmin = np.zeros_like(dp)\n",
    "Smax = np.zeros_like(dp)\n",
    "Tmin_clean = np.zeros_like(dp)\n",
    "Smax_clean = np.zeros_like(dp)\n",
    "Tmin_dry = np.zeros_like(dp)\n",
    "Smax_dry = np.zeros_like(dp)\n",
    "for i,dpi in enumerate(dp):\n",
    "    print(i,dpi)\n",
    "\n",
    "    formulae = Formulae()\n",
    "    const = formulae.constants\n",
    "    aerosol = AerosolChamber(water_molar_volume=const.Mv / const.rho_w, N=2000 / si.cm**3)\n",
    "    output = run_expansion(formulae, aerosol, n_sd_per_mode, RH0=0.5, p0=p0, pf=(p0 - dpi), dt=DT)\n",
    "    Tmin[i] = np.nanmin(output.profile[\"T\"]) - 273.15 # °C\n",
    "    Smax[i] = np.nanmax(output.profile[\"s\"]) + 1 # saturation ratio\n",
    "\n",
    "    aerosol = AerosolChamber(water_molar_volume=const.Mv / const.rho_w, N=1 / si.cm**3)\n",
    "    output = run_expansion(formulae, aerosol, n_sd_per_mode, RH0=0.5, p0=p0, pf=(p0 - dpi), dt=DT)\n",
    "    Tmin_clean[i] = np.nanmin(output.profile[\"T\"]) - 273.15 # °C\n",
    "    Smax_clean[i] = np.nanmax(output.profile[\"s\"]) + 1 # saturation ratio\n",
    "\n",
    "    output = run_expansion(formulae, aerosol, n_sd_per_mode, RH0=0, p0=p0, pf=(p0 - dpi), dt=DT)\n",
    "    Tmin_dry[i] = np.nanmin(output.profile[\"T\"]) - 273.15 # °C\n",
    "    Smax_dry[i] = np.nanmax(output.profile[\"s\"]) + 1 # saturation ratio\n",
    "\n",
    "print(dp)\n",
    "print(Tmin)\n",
    "print(Tmin_clean)\n",
    "print(Tmin_dry)"
   ]
  },
  {
   "cell_type": "code",
   "execution_count": null,
   "metadata": {
    "ExecuteTime": {
     "end_time": "2025-01-30T20:18:02.529987551Z",
     "start_time": "2025-01-26T23:10:25.865329Z"
    }
   },
   "outputs": [],
   "source": [
    "print(\"p0 =\",p0,\"Pa\")\n",
    "print(\"T0 =\",296-273.15,\"°C\")\n",
    "print(\"dp =\",dp)\n",
    "print(\"Tmin (S0=0.5, C0=2000) =\", Tmin)\n",
    "print(\"Tmin (S0=0.5, C0=1) =\", Tmin_clean)\n",
    "print(\"Tmin (S0=0, C0=1) =\", Tmin_dry)"
   ]
  },
  {
   "cell_type": "code",
   "execution_count": null,
   "metadata": {
    "ExecuteTime": {
     "end_time": "2025-01-30T20:18:02.702242840Z",
     "start_time": "2025-01-26T23:10:40.873425Z"
    }
   },
   "outputs": [],
   "source": [
    "fig,ax = pyplot.subplots(1,1,figsize=(5,4))\n",
    "ax.plot(dp/p0, Tmin_dry, color=\"black\", marker=\"o\", ls=\"--\", label=\"$S_0 = 0, C_0 = 1 $ cm$^{-3}$\")\n",
    "ax.plot(dp/p0, Tmin_clean, color=\"turquoise\", marker=\"o\", ls=\"--\", label=\"$S_0 = 0.5, C_0 = 1 $ cm$^{-3}$\")\n",
    "ax.plot(dp/p0, Tmin, color=\"green\", marker=\"o\", ls=\"--\", label=\"$S_0 = 0.5, C_0 = 2000$ cm$^{-3}$\")\n",
    "ax.set_xlabel(r\"$\\Delta p / p_i$\")\n",
    "ax.set_ylabel(r\"$T_{min}$ [°C]\")\n",
    "ax.legend(loc=3, frameon=False)\n",
    "ax.set_title(\"PySDM parcel simulation, no homogeneous nucleation\")\n",
    "show_plot(\"Tmin_dp.pdf\")\n",
    "\n",
    "#########\n",
    "\n",
    "fig,axes = pyplot.subplots(2,1,figsize=(6,6),sharex=True)\n",
    "\n",
    "ax = axes[0]\n",
    "ax.plot(dp/p0, Tmin_dry, color=\"black\", marker=\"o\", ls=\"--\", label=\"$S_0 = 0, C_0 = 1 $ cm$^{-3}$\")\n",
    "ax.plot(dp/p0, Tmin_clean, color=\"turquoise\", marker=\"o\", ls=\"--\", label=\"$S_0 = 0.5, C_0 = 1 $ cm$^{-3}$\")\n",
    "ax.plot(dp/p0, Tmin, color=\"green\", marker=\"o\", ls=\"--\", label=\"$S_0 = 0.5, C_0 = 2000$ cm$^{-3}$\")\n",
    "ax.set_ylabel(r\"$T_{min}$ [°C]\")\n",
    "ax.legend(loc=3, frameon=False)\n",
    "ax.set_title(\"PySDM parcel simulation, no homogeneous nucleation\")\n",
    "\n",
    "ax = axes[1]\n",
    "ax.plot(dp/p0, Smax_dry, color=\"black\", marker=\"o\", ls=\"--\", label=\"$S_0 = 0, C_0 = 1 $ cm$^{-3}$\")\n",
    "ax.plot(dp/p0, Smax_clean, color=\"turquoise\", marker=\"o\", ls=\"--\", label=\"$S_0 = 0.5, C_0 = 1 $ cm$^{-3}$\")\n",
    "ax.plot(dp/p0, Smax, color=\"green\", marker=\"o\", ls=\"--\", label=\"$S_0 = 0.5, C_0 = 2000$ cm$^{-3}$\")\n",
    "ax.set_xlabel(r\"$\\Delta p / p_i$\")\n",
    "ax.set_ylabel(r\"$S_{max}$\")\n",
    "# ax.set_yscale(\"log\")\n",
    "ax.set_ylim(-0.5,6)\n",
    "ax.axhline(0, color=\"k\", lw=0.5)\n",
    "ax.axhline(1, color=\"k\", lw=0.5)\n",
    "ax.axhline(4, color=\"k\", lw=0.5)\n",
    "\n",
    "show_plot(\"dp_sweep.pdf\")"
   ]
  },
  {
   "cell_type": "code",
   "execution_count": null,
   "metadata": {},
   "outputs": [],
   "source": []
  }
 ],
 "metadata": {
  "kernelspec": {
   "display_name": "Python 3 (ipykernel)",
   "language": "python",
   "name": "python3"
  },
  "language_info": {
   "codemirror_mode": {
    "name": "ipython",
    "version": 3
   },
   "file_extension": ".py",
   "mimetype": "text/x-python",
   "name": "python",
   "nbconvert_exporter": "python",
   "pygments_lexer": "ipython3",
   "version": "3.10.9"
  },
  "vscode": {
   "interpreter": {
    "hash": "b14f34a08619f4a218d80d7380beed3f0c712c89ff93e7183219752d640ed427"
   }
  }
 },
 "nbformat": 4,
 "nbformat_minor": 4
}
