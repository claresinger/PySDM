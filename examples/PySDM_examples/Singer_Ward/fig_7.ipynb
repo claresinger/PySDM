{
 "cells": [
  {
   "cell_type": "markdown",
   "metadata": {},
   "source": [
    "## Figure 7\n",
    "\n",
    "Bar chart showing a) CDNC at 200m above cloud base and b) albedo for different conditions. \n",
    "Bars divided into different climate conditions (slow vs. fast updraft -- w, clean vs. polluted environment -- Na, large vs. small aerosol -- ra, organic rich vs. poor -- Forg)\n",
    "and different bars for each assumption of surface partitioning, including constant surface tension. "
   ]
  },
  {
   "cell_type": "code",
   "execution_count": null,
   "metadata": {},
   "outputs": [],
   "source": []
  }
 ],
 "metadata": {
  "kernelspec": {
   "display_name": "Python 3.10.9 ('pysdm')",
   "language": "python",
   "name": "python3"
  },
  "language_info": {
   "name": "python",
   "version": "3.10.9"
  },
  "orig_nbformat": 4,
  "vscode": {
   "interpreter": {
    "hash": "b14f34a08619f4a218d80d7380beed3f0c712c89ff93e7183219752d640ed427"
   }
  }
 },
 "nbformat": 4,
 "nbformat_minor": 2
}
