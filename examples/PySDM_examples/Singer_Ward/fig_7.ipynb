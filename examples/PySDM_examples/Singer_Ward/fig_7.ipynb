{
 "cells": [
  {
   "cell_type": "markdown",
   "metadata": {},
   "source": [
    "## Figure 7\n",
    "\n",
    "Bar chart showing a) LWP, b) effective radius, and c) cloud albedo for different conditions. \n",
    "\n",
    "Bars divided into different climate conditions:\n",
    "- slow vs. fast updraft: w\n",
    "- clean vs. polluted environment: Na\n",
    "- large vs. small aerosol: ra\n",
    "- organic rich vs. poor: Forg\n",
    "\n",
    "and different bars for each assumption of surface partitioning, including constant surface tension. "
   ]
  },
  {
   "cell_type": "code",
   "execution_count": 1,
   "metadata": {},
   "outputs": [],
   "source": [
    "import sys\n",
    "if 'google.colab' in sys.modules:\n",
    "    !pip --quiet install \"open_atmos_jupyter_utils\"\n",
    "    from open_atmos_jupyter_utils import pip_install_on_colab\n",
    "    pip_install_on_colab('PySDM-examples')"
   ]
  },
  {
   "cell_type": "code",
   "execution_count": 12,
   "metadata": {},
   "outputs": [],
   "source": [
    "import numpy as np\n",
    "import os\n",
    "from joblib import Parallel, delayed\n",
    "import pickle as pkl\n",
    "\n",
    "from matplotlib import pyplot\n",
    "from matplotlib.colors import TwoSlopeNorm\n",
    "from open_atmos_jupyter_utils import show_plot\n",
    "\n",
    "from PySDM import Formulae\n",
    "from PySDM.physics import si\n",
    "from PySDM.initialisation.sampling import spectral_sampling as spec_sampling\n",
    "\n",
    "from PySDM_examples.Singer_Ward import Settings, ParcelSimulation\n",
    "from PySDM_examples.Singer_Ward.aerosol import AerosolBetaCaryophylleneDark\n",
    "from PySDM_examples.Singer_Ward.constants_def import SINGER_CONSTS, plot_colors, plot_lines, plot_names\n",
    "\n",
    "import warnings\n",
    "from numba.core.errors import NumbaExperimentalFeatureWarning"
   ]
  },
  {
   "cell_type": "code",
   "execution_count": 52,
   "metadata": {},
   "outputs": [],
   "source": [
    "CI = 'CI' in os.environ\n",
    "\n",
    "save = True\n",
    "restore_saved_data = False\n",
    "\n",
    "# updrafts = (0.1, 5)\n",
    "# aerosol_number_concs = (50, 200)\n",
    "# aerosol_mean_radii = (50, 100)\n",
    "# forgs =(0.2, 0.8)\n",
    "conditions = (\"slow\", \"fast\", \"clean\", \"polluted\", \"small\", \"large\", \"poor\", \"rich\")\n",
    "models = ('Constant', 'CompressedFilmOvadnevaite', 'SzyszkowskiLangmuir', 'CompressedFilmRuehl')\n",
    "\n",
    "def c2p(c):\n",
    "    match c:\n",
    "        case \"slow\":\n",
    "            w = 0.1\n",
    "            N_a = 200\n",
    "            r_a = 50\n",
    "            Forg = 0.5\n",
    "        case \"fast\":\n",
    "            w = 5\n",
    "            N_a = 200\n",
    "            r_a = 50\n",
    "            Forg = 0.5\n",
    "        case \"clean\":\n",
    "            w = 0.5\n",
    "            N_a = 50\n",
    "            r_a = 50\n",
    "            Forg = 0.5\n",
    "        case \"polluted\":\n",
    "            w = 0.5\n",
    "            N_a = 400\n",
    "            r_a = 50\n",
    "            Forg = 0.5\n",
    "        case \"small\":\n",
    "            w = 0.5\n",
    "            N_a = 200\n",
    "            r_a = 30\n",
    "            Forg = 0.5\n",
    "        case \"large\":\n",
    "            w = 0.5\n",
    "            N_a = 200\n",
    "            r_a = 80\n",
    "            Forg = 0.5\n",
    "        case \"poor\":\n",
    "            w = 0.5\n",
    "            N_a = 200\n",
    "            r_a = 50\n",
    "            Forg = 0.2\n",
    "        case \"rich\":\n",
    "            w = 0.5\n",
    "            N_a = 200\n",
    "            r_a = 50\n",
    "            Forg = 0.8\n",
    "\n",
    "    return {\"w\":w, \"N_a\":N_a, \"r_a\":r_a, \"Forg\":Forg}\n",
    "\n",
    "FORMULAE = Formulae(constants=SINGER_CONSTS)\n",
    "# WATER_MOLAR_VOLUME = FORMULAE.constants.water_molar_volume\n",
    "WATER_MOLAR_VOLUME = FORMULAE.constants.Mv / FORMULAE.constants.rho_w"
   ]
  },
  {
   "cell_type": "code",
   "execution_count": 56,
   "metadata": {},
   "outputs": [
    {
     "name": "stdout",
     "output_type": "stream",
     "text": [
      "tasks scheduled: 32\n"
     ]
    },
    {
     "name": "stderr",
     "output_type": "stream",
     "text": [
      "[Parallel(n_jobs=-1)]: Using backend LokyBackend with 8 concurrent workers.\n"
     ]
    },
    {
     "name": "stdout",
     "output_type": "stream",
     "text": [
      "slow_Constant\n",
      "slow_CompressedFilmOvadnevaite\n",
      "slow_SzyszkowskiLangmuir\n",
      "slow_CompressedFilmRuehl\n",
      "fast_Constant\n",
      "fast_CompressedFilmOvadnevaite\n",
      "fast_SzyszkowskiLangmuir\n",
      "fast_CompressedFilmRuehl\n",
      "clean_Constant\n"
     ]
    },
    {
     "name": "stderr",
     "output_type": "stream",
     "text": [
      "[Parallel(n_jobs=-1)]: Done   2 tasks      | elapsed:  1.1min\n"
     ]
    },
    {
     "name": "stdout",
     "output_type": "stream",
     "text": [
      "clean_CompressedFilmOvadnevaite\n",
      "clean_SzyszkowskiLangmuir\n",
      "clean_CompressedFilmRuehl\n",
      "polluted_Constant\n",
      "polluted_CompressedFilmOvadnevaite\n",
      "polluted_SzyszkowskiLangmuir\n",
      "polluted_CompressedFilmRuehl\n"
     ]
    },
    {
     "name": "stderr",
     "output_type": "stream",
     "text": [
      "[Parallel(n_jobs=-1)]: Done   9 tasks      | elapsed:  1.8min\n"
     ]
    },
    {
     "name": "stdout",
     "output_type": "stream",
     "text": [
      "small_Constant\n",
      "small_CompressedFilmOvadnevaite\n",
      "small_SzyszkowskiLangmuir\n",
      "small_CompressedFilmRuehl\n",
      "large_Constant\n",
      "large_CompressedFilmOvadnevaite\n",
      "large_SzyszkowskiLangmuir\n"
     ]
    },
    {
     "name": "stderr",
     "output_type": "stream",
     "text": [
      "[Parallel(n_jobs=-1)]: Done  16 tasks      | elapsed:  2.7min\n"
     ]
    },
    {
     "name": "stdout",
     "output_type": "stream",
     "text": [
      "large_CompressedFilmRuehl\n",
      "poor_Constant\n",
      "poor_CompressedFilmOvadnevaite\n",
      "poor_SzyszkowskiLangmuir\n",
      "poor_CompressedFilmRuehl\n"
     ]
    },
    {
     "name": "stderr",
     "output_type": "stream",
     "text": [
      "[Parallel(n_jobs=-1)]: Done  21 out of  32 | elapsed:  3.3min remaining:  1.7min\n"
     ]
    },
    {
     "name": "stdout",
     "output_type": "stream",
     "text": [
      "rich_Constant\n",
      "rich_CompressedFilmOvadnevaite\n",
      "rich_SzyszkowskiLangmuir\n",
      "rich_CompressedFilmRuehl\n"
     ]
    },
    {
     "name": "stderr",
     "output_type": "stream",
     "text": [
      "[Parallel(n_jobs=-1)]: Done  25 out of  32 | elapsed:  3.8min remaining:  1.1min\n",
      "[Parallel(n_jobs=-1)]: Done  29 out of  32 | elapsed:  4.2min remaining:   26.3s\n",
      "[Parallel(n_jobs=-1)]: Done  32 out of  32 | elapsed:  4.6min finished\n"
     ]
    }
   ],
   "source": [
    "# def genkey(w, Forg, N_a, r_a, model):\n",
    "#     return f\"w{w:.2f}_f{Forg:.2f}_N{N_a:.2f}_r{r_a:.2f}_{model}\"\n",
    "\n",
    "if restore_saved_data:\n",
    "    with open('data_fig7.pkl','rb') as file:\n",
    "        output = pkl.load(file)\n",
    "else:\n",
    "    def compute(key, settings):\n",
    "        simulation = ParcelSimulation(settings)\n",
    "        output = simulation.run()\n",
    "        model = key.split(\"_\")[-1]\n",
    "        output['updraft'] = settings.w\n",
    "        output['org_fraction'] = settings.aerosol.modes[0]['f_org']\n",
    "        output['color'] = plot_colors[model]\n",
    "        return key, output\n",
    "\n",
    "    print(f'tasks scheduled: {len(models) * len(conditions)}')\n",
    "    output = dict(Parallel(verbose=10, n_jobs=-1)(\n",
    "        delayed(compute)(f\"{cond}_{model}\", Settings(\n",
    "            dz = 1 * si.m,\n",
    "            n_sd_per_mode = 100,\n",
    "            model = model,\n",
    "            aerosol = AerosolBetaCaryophylleneDark(\n",
    "                water_molar_volume=WATER_MOLAR_VOLUME,\n",
    "                Forg=c2p(cond)[\"Forg\"],\n",
    "                N_a=c2p(cond)[\"N_a\"],\n",
    "                r_a=c2p(cond)[\"r_a\"]\n",
    "            ),\n",
    "            w = c2p(cond)[\"w\"] * si.m / si.s,\n",
    "            spectral_sampling = spec_sampling.ConstantMultiplicity,\n",
    "        ))\n",
    "        for cond in conditions\n",
    "        for model in models\n",
    "    ))\n",
    "\n",
    "    if save:\n",
    "        with open('data_fig7.pkl','wb') as file:\n",
    "            pkl.dump(output, file)"
   ]
  },
  {
   "cell_type": "code",
   "execution_count": 108,
   "metadata": {},
   "outputs": [
    {
     "data": {
      "image/svg+xml": "<?xml version=\"1.0\" encoding=\"utf-8\" standalone=\"no\"?>\n<!DOCTYPE svg PUBLIC \"-//W3C//DTD SVG 1.1//EN\"\n  \"http://www.w3.org/Graphics/SVG/1.1/DTD/svg11.dtd\">\n<svg xmlns:xlink=\"http://www.w3.org/1999/xlink\" width=\"728.39952pt\" height=\"512.357685pt\" viewBox=\"0 0 728.39952 512.357685\" xmlns=\"http://www.w3.org/2000/svg\" version=\"1.1\">\n <metadata>\n  <rdf:RDF xmlns:dc=\"http://purl.org/dc/elements/1.1/\" xmlns:cc=\"http://creativecommons.org/ns#\" xmlns:rdf=\"http://www.w3.org/1999/02/22-rdf-syntax-ns#\">\n   <cc:Work>\n    <dc:type rdf:resource=\"http://purl.org/dc/dcmitype/StillImage\"/>\n    <dc:date>2024-02-12T15:59:50.343223</dc:date>\n    <dc:format>image/svg+xml</dc:format>\n    <dc:creator>\n     <cc:Agent>\n      <dc:title>Matplotlib v3.5.1, https://matplotlib.org/</dc:title>\n     </cc:Agent>\n    </dc:creator>\n   </cc:Work>\n  </rdf:RDF>\n </metadata>\n <defs>\n  <style type=\"text/css\">*{stroke-linejoin: round; stroke-linecap: butt}</style>\n </defs>\n <g id=\"figure_1\">\n  <g id=\"patch_1\">\n   <path d=\"M 0 512.357685 \nL 728.39952 512.357685 \nL 728.39952 0 \nL 0 0 \nL 0 512.357685 \nz\n\" style=\"fill: none\"/>\n  </g>\n  <g id=\"axes_1\">\n   <g id=\"patch_2\">\n    <path d=\"M 63.63125 137.632234 \nL 721.19952 137.632234 \nL 721.19952 9.253132 \nL 63.63125 9.253132 \nz\n\" style=\"fill: #ffffff\"/>\n   </g>\n   <g id=\"patch_3\">\n    <path d=\"M 93.520717 137.632234 \nL 108.848649 137.632234 \nL 108.848649 76.499496 \nL 93.520717 76.499496 \nz\n\" clip-path=\"url(#pc5d88a9aad)\"/>\n   </g>\n   <g id=\"patch_4\">\n    <path d=\"M 108.848649 137.632234 \nL 124.17658 137.632234 \nL 124.17658 76.499496 \nL 108.848649 76.499496 \nz\n\" clip-path=\"url(#pc5d88a9aad)\" style=\"fill: #1f77b4\"/>\n   </g>\n   <g id=\"patch_5\">\n    <path d=\"M 124.17658 137.632234 \nL 139.504512 137.632234 \nL 139.504512 76.499496 \nL 124.17658 76.499496 \nz\n\" clip-path=\"url(#pc5d88a9aad)\" style=\"fill: #2ca02c\"/>\n   </g>\n   <g id=\"patch_6\">\n    <path d=\"M 139.504512 137.632234 \nL 154.832444 137.632234 \nL 154.832444 76.499589 \nL 139.504512 76.499589 \nz\n\" clip-path=\"url(#pc5d88a9aad)\" style=\"fill: #ff7f0e\"/>\n   </g>\n   <g id=\"patch_7\">\n    <path d=\"M 170.160375 137.632234 \nL 185.488307 137.632234 \nL 185.488307 76.494354 \nL 170.160375 76.494354 \nz\n\" clip-path=\"url(#pc5d88a9aad)\"/>\n   </g>\n   <g id=\"patch_8\">\n    <path d=\"M 185.488307 137.632234 \nL 200.816239 137.632234 \nL 200.816239 76.494342 \nL 185.488307 76.494342 \nz\n\" clip-path=\"url(#pc5d88a9aad)\" style=\"fill: #1f77b4\"/>\n   </g>\n   <g id=\"patch_9\">\n    <path d=\"M 200.816239 137.632234 \nL 216.14417 137.632234 \nL 216.14417 76.494156 \nL 200.816239 76.494156 \nz\n\" clip-path=\"url(#pc5d88a9aad)\" style=\"fill: #2ca02c\"/>\n   </g>\n   <g id=\"patch_10\">\n    <path d=\"M 216.14417 137.632234 \nL 231.472102 137.632234 \nL 231.472102 76.49452 \nL 216.14417 76.49452 \nz\n\" clip-path=\"url(#pc5d88a9aad)\" style=\"fill: #ff7f0e\"/>\n   </g>\n   <g id=\"patch_11\">\n    <path d=\"M 246.800034 137.632234 \nL 262.127966 137.632234 \nL 262.127966 122.348802 \nL 246.800034 122.348802 \nz\n\" clip-path=\"url(#pc5d88a9aad)\"/>\n   </g>\n   <g id=\"patch_12\">\n    <path d=\"M 262.127966 137.632234 \nL 277.455897 137.632234 \nL 277.455897 122.348802 \nL 262.127966 122.348802 \nz\n\" clip-path=\"url(#pc5d88a9aad)\" style=\"fill: #1f77b4\"/>\n   </g>\n   <g id=\"patch_13\">\n    <path d=\"M 277.455897 137.632234 \nL 292.783829 137.632234 \nL 292.783829 122.348802 \nL 277.455897 122.348802 \nz\n\" clip-path=\"url(#pc5d88a9aad)\" style=\"fill: #2ca02c\"/>\n   </g>\n   <g id=\"patch_14\">\n    <path d=\"M 292.783829 137.632234 \nL 308.111761 137.632234 \nL 308.111761 122.348817 \nL 292.783829 122.348817 \nz\n\" clip-path=\"url(#pc5d88a9aad)\" style=\"fill: #ff7f0e\"/>\n   </g>\n   <g id=\"patch_15\">\n    <path d=\"M 323.439692 137.632234 \nL 338.767624 137.632234 \nL 338.767624 15.366423 \nL 323.439692 15.366423 \nz\n\" clip-path=\"url(#pc5d88a9aad)\"/>\n   </g>\n   <g id=\"patch_16\">\n    <path d=\"M 338.767624 137.632234 \nL 354.095556 137.632234 \nL 354.095556 15.366423 \nL 338.767624 15.366423 \nz\n\" clip-path=\"url(#pc5d88a9aad)\" style=\"fill: #1f77b4\"/>\n   </g>\n   <g id=\"patch_17\">\n    <path d=\"M 354.095556 137.632234 \nL 369.423487 137.632234 \nL 369.423487 15.366423 \nL 354.095556 15.366423 \nz\n\" clip-path=\"url(#pc5d88a9aad)\" style=\"fill: #2ca02c\"/>\n   </g>\n   <g id=\"patch_18\">\n    <path d=\"M 369.423487 137.632234 \nL 384.751419 137.632234 \nL 384.751419 15.366659 \nL 369.423487 15.366659 \nz\n\" clip-path=\"url(#pc5d88a9aad)\" style=\"fill: #ff7f0e\"/>\n   </g>\n   <g id=\"patch_19\">\n    <path d=\"M 400.079351 137.632234 \nL 415.407283 137.632234 \nL 415.407283 76.499188 \nL 400.079351 76.499188 \nz\n\" clip-path=\"url(#pc5d88a9aad)\"/>\n   </g>\n   <g id=\"patch_20\">\n    <path d=\"M 415.407283 137.632234 \nL 430.735214 137.632234 \nL 430.735214 76.499188 \nL 415.407283 76.499188 \nz\n\" clip-path=\"url(#pc5d88a9aad)\" style=\"fill: #1f77b4\"/>\n   </g>\n   <g id=\"patch_21\">\n    <path d=\"M 430.735214 137.632234 \nL 446.063146 137.632234 \nL 446.063146 76.499189 \nL 430.735214 76.499189 \nz\n\" clip-path=\"url(#pc5d88a9aad)\" style=\"fill: #2ca02c\"/>\n   </g>\n   <g id=\"patch_22\">\n    <path d=\"M 446.063146 137.632234 \nL 461.391078 137.632234 \nL 461.391078 76.499282 \nL 446.063146 76.499282 \nz\n\" clip-path=\"url(#pc5d88a9aad)\" style=\"fill: #ff7f0e\"/>\n   </g>\n   <g id=\"patch_23\">\n    <path d=\"M 476.719009 137.632234 \nL 492.046941 137.632234 \nL 492.046941 76.499189 \nL 476.719009 76.499189 \nz\n\" clip-path=\"url(#pc5d88a9aad)\"/>\n   </g>\n   <g id=\"patch_24\">\n    <path d=\"M 492.046941 137.632234 \nL 507.374873 137.632234 \nL 507.374873 76.499189 \nL 492.046941 76.499189 \nz\n\" clip-path=\"url(#pc5d88a9aad)\" style=\"fill: #1f77b4\"/>\n   </g>\n   <g id=\"patch_25\">\n    <path d=\"M 507.374873 137.632234 \nL 522.702804 137.632234 \nL 522.702804 76.499188 \nL 507.374873 76.499188 \nz\n\" clip-path=\"url(#pc5d88a9aad)\" style=\"fill: #2ca02c\"/>\n   </g>\n   <g id=\"patch_26\">\n    <path d=\"M 522.702804 137.632234 \nL 538.030736 137.632234 \nL 538.030736 76.499282 \nL 522.702804 76.499282 \nz\n\" clip-path=\"url(#pc5d88a9aad)\" style=\"fill: #ff7f0e\"/>\n   </g>\n   <g id=\"patch_27\">\n    <path d=\"M 553.358668 137.632234 \nL 568.6866 137.632234 \nL 568.6866 76.499188 \nL 553.358668 76.499188 \nz\n\" clip-path=\"url(#pc5d88a9aad)\"/>\n   </g>\n   <g id=\"patch_28\">\n    <path d=\"M 568.6866 137.632234 \nL 584.014531 137.632234 \nL 584.014531 76.499188 \nL 568.6866 76.499188 \nz\n\" clip-path=\"url(#pc5d88a9aad)\" style=\"fill: #1f77b4\"/>\n   </g>\n   <g id=\"patch_29\">\n    <path d=\"M 584.014531 137.632234 \nL 599.342463 137.632234 \nL 599.342463 76.499189 \nL 584.014531 76.499189 \nz\n\" clip-path=\"url(#pc5d88a9aad)\" style=\"fill: #2ca02c\"/>\n   </g>\n   <g id=\"patch_30\">\n    <path d=\"M 599.342463 137.632234 \nL 614.670395 137.632234 \nL 614.670395 76.499282 \nL 599.342463 76.499282 \nz\n\" clip-path=\"url(#pc5d88a9aad)\" style=\"fill: #ff7f0e\"/>\n   </g>\n   <g id=\"patch_31\">\n    <path d=\"M 629.998326 137.632234 \nL 645.326258 137.632234 \nL 645.326258 76.499188 \nL 629.998326 76.499188 \nz\n\" clip-path=\"url(#pc5d88a9aad)\"/>\n   </g>\n   <g id=\"patch_32\">\n    <path d=\"M 645.326258 137.632234 \nL 660.65419 137.632234 \nL 660.65419 76.499188 \nL 645.326258 76.499188 \nz\n\" clip-path=\"url(#pc5d88a9aad)\" style=\"fill: #1f77b4\"/>\n   </g>\n   <g id=\"patch_33\">\n    <path d=\"M 660.65419 137.632234 \nL 675.982121 137.632234 \nL 675.982121 76.499188 \nL 660.65419 76.499188 \nz\n\" clip-path=\"url(#pc5d88a9aad)\" style=\"fill: #2ca02c\"/>\n   </g>\n   <g id=\"patch_34\">\n    <path d=\"M 675.982121 137.632234 \nL 691.310053 137.632234 \nL 691.310053 76.499282 \nL 675.982121 76.499282 \nz\n\" clip-path=\"url(#pc5d88a9aad)\" style=\"fill: #ff7f0e\"/>\n   </g>\n   <g id=\"matplotlib.axis_1\">\n    <g id=\"xtick_1\">\n     <g id=\"line2d_1\">\n      <defs>\n       <path id=\"mef6b3b942c\" d=\"M 0 0 \nL 0 3.5 \n\" style=\"stroke: #000000; stroke-width: 0.8\"/>\n      </defs>\n      <g>\n       <use xlink:href=\"#mef6b3b942c\" x=\"124.17658\" y=\"137.632234\" style=\"stroke: #000000; stroke-width: 0.8\"/>\n      </g>\n     </g>\n    </g>\n    <g id=\"xtick_2\">\n     <g id=\"line2d_2\">\n      <g>\n       <use xlink:href=\"#mef6b3b942c\" x=\"200.816239\" y=\"137.632234\" style=\"stroke: #000000; stroke-width: 0.8\"/>\n      </g>\n     </g>\n    </g>\n    <g id=\"xtick_3\">\n     <g id=\"line2d_3\">\n      <g>\n       <use xlink:href=\"#mef6b3b942c\" x=\"277.455897\" y=\"137.632234\" style=\"stroke: #000000; stroke-width: 0.8\"/>\n      </g>\n     </g>\n    </g>\n    <g id=\"xtick_4\">\n     <g id=\"line2d_4\">\n      <g>\n       <use xlink:href=\"#mef6b3b942c\" x=\"354.095556\" y=\"137.632234\" style=\"stroke: #000000; stroke-width: 0.8\"/>\n      </g>\n     </g>\n    </g>\n    <g id=\"xtick_5\">\n     <g id=\"line2d_5\">\n      <g>\n       <use xlink:href=\"#mef6b3b942c\" x=\"430.735214\" y=\"137.632234\" style=\"stroke: #000000; stroke-width: 0.8\"/>\n      </g>\n     </g>\n    </g>\n    <g id=\"xtick_6\">\n     <g id=\"line2d_6\">\n      <g>\n       <use xlink:href=\"#mef6b3b942c\" x=\"507.374873\" y=\"137.632234\" style=\"stroke: #000000; stroke-width: 0.8\"/>\n      </g>\n     </g>\n    </g>\n    <g id=\"xtick_7\">\n     <g id=\"line2d_7\">\n      <g>\n       <use xlink:href=\"#mef6b3b942c\" x=\"584.014531\" y=\"137.632234\" style=\"stroke: #000000; stroke-width: 0.8\"/>\n      </g>\n     </g>\n    </g>\n    <g id=\"xtick_8\">\n     <g id=\"line2d_8\">\n      <g>\n       <use xlink:href=\"#mef6b3b942c\" x=\"660.65419\" y=\"137.632234\" style=\"stroke: #000000; stroke-width: 0.8\"/>\n      </g>\n     </g>\n    </g>\n   </g>\n   <g id=\"matplotlib.axis_2\">\n    <g id=\"ytick_1\">\n     <g id=\"line2d_9\">\n      <defs>\n       <path id=\"m3da6172d20\" d=\"M 0 0 \nL -3.5 0 \n\" style=\"stroke: #000000; stroke-width: 0.8\"/>\n      </defs>\n      <g>\n       <use xlink:href=\"#m3da6172d20\" x=\"63.63125\" y=\"137.632234\" style=\"stroke: #000000; stroke-width: 0.8\"/>\n      </g>\n     </g>\n     <g id=\"text_1\">\n      <!-- 0 -->\n      <g transform=\"translate(47.0875 143.331062)scale(0.15 -0.15)\">\n       <defs>\n        <path id=\"DejaVuSans-30\" d=\"M 2034 4250 \nQ 1547 4250 1301 3770 \nQ 1056 3291 1056 2328 \nQ 1056 1369 1301 889 \nQ 1547 409 2034 409 \nQ 2525 409 2770 889 \nQ 3016 1369 3016 2328 \nQ 3016 3291 2770 3770 \nQ 2525 4250 2034 4250 \nz\nM 2034 4750 \nQ 2819 4750 3233 4129 \nQ 3647 3509 3647 2328 \nQ 3647 1150 3233 529 \nQ 2819 -91 2034 -91 \nQ 1250 -91 836 529 \nQ 422 1150 422 2328 \nQ 422 3509 836 4129 \nQ 1250 4750 2034 4750 \nz\n\" transform=\"scale(0.015625)\"/>\n       </defs>\n       <use xlink:href=\"#DejaVuSans-30\"/>\n      </g>\n     </g>\n    </g>\n    <g id=\"ytick_2\">\n     <g id=\"line2d_10\">\n      <g>\n       <use xlink:href=\"#m3da6172d20\" x=\"63.63125\" y=\"75.265531\" style=\"stroke: #000000; stroke-width: 0.8\"/>\n      </g>\n     </g>\n     <g id=\"text_2\">\n      <!-- 200 -->\n      <g transform=\"translate(28 80.964359)scale(0.15 -0.15)\">\n       <defs>\n        <path id=\"DejaVuSans-32\" d=\"M 1228 531 \nL 3431 531 \nL 3431 0 \nL 469 0 \nL 469 531 \nQ 828 903 1448 1529 \nQ 2069 2156 2228 2338 \nQ 2531 2678 2651 2914 \nQ 2772 3150 2772 3378 \nQ 2772 3750 2511 3984 \nQ 2250 4219 1831 4219 \nQ 1534 4219 1204 4116 \nQ 875 4013 500 3803 \nL 500 4441 \nQ 881 4594 1212 4672 \nQ 1544 4750 1819 4750 \nQ 2544 4750 2975 4387 \nQ 3406 4025 3406 3419 \nQ 3406 3131 3298 2873 \nQ 3191 2616 2906 2266 \nQ 2828 2175 2409 1742 \nQ 1991 1309 1228 531 \nz\n\" transform=\"scale(0.015625)\"/>\n       </defs>\n       <use xlink:href=\"#DejaVuSans-32\"/>\n       <use xlink:href=\"#DejaVuSans-30\" x=\"63.623047\"/>\n       <use xlink:href=\"#DejaVuSans-30\" x=\"127.246094\"/>\n      </g>\n     </g>\n    </g>\n    <g id=\"ytick_3\">\n     <g id=\"line2d_11\">\n      <g>\n       <use xlink:href=\"#m3da6172d20\" x=\"63.63125\" y=\"12.898828\" style=\"stroke: #000000; stroke-width: 0.8\"/>\n      </g>\n     </g>\n     <g id=\"text_3\">\n      <!-- 400 -->\n      <g transform=\"translate(28 18.597656)scale(0.15 -0.15)\">\n       <defs>\n        <path id=\"DejaVuSans-34\" d=\"M 2419 4116 \nL 825 1625 \nL 2419 1625 \nL 2419 4116 \nz\nM 2253 4666 \nL 3047 4666 \nL 3047 1625 \nL 3713 1625 \nL 3713 1100 \nL 3047 1100 \nL 3047 0 \nL 2419 0 \nL 2419 1100 \nL 313 1100 \nL 313 1709 \nL 2253 4666 \nz\n\" transform=\"scale(0.015625)\"/>\n       </defs>\n       <use xlink:href=\"#DejaVuSans-34\"/>\n       <use xlink:href=\"#DejaVuSans-30\" x=\"63.623047\"/>\n       <use xlink:href=\"#DejaVuSans-30\" x=\"127.246094\"/>\n      </g>\n     </g>\n    </g>\n    <g id=\"text_4\">\n     <!-- LWP [g m$^{-2}$] -->\n     <g transform=\"translate(20.85 120.317683)rotate(-90)scale(0.15 -0.15)\">\n      <defs>\n       <path id=\"DejaVuSans-4c\" d=\"M 628 4666 \nL 1259 4666 \nL 1259 531 \nL 3531 531 \nL 3531 0 \nL 628 0 \nL 628 4666 \nz\n\" transform=\"scale(0.015625)\"/>\n       <path id=\"DejaVuSans-57\" d=\"M 213 4666 \nL 850 4666 \nL 1831 722 \nL 2809 4666 \nL 3519 4666 \nL 4500 722 \nL 5478 4666 \nL 6119 4666 \nL 4947 0 \nL 4153 0 \nL 3169 4050 \nL 2175 0 \nL 1381 0 \nL 213 4666 \nz\n\" transform=\"scale(0.015625)\"/>\n       <path id=\"DejaVuSans-50\" d=\"M 1259 4147 \nL 1259 2394 \nL 2053 2394 \nQ 2494 2394 2734 2622 \nQ 2975 2850 2975 3272 \nQ 2975 3691 2734 3919 \nQ 2494 4147 2053 4147 \nL 1259 4147 \nz\nM 628 4666 \nL 2053 4666 \nQ 2838 4666 3239 4311 \nQ 3641 3956 3641 3272 \nQ 3641 2581 3239 2228 \nQ 2838 1875 2053 1875 \nL 1259 1875 \nL 1259 0 \nL 628 0 \nL 628 4666 \nz\n\" transform=\"scale(0.015625)\"/>\n       <path id=\"DejaVuSans-20\" transform=\"scale(0.015625)\"/>\n       <path id=\"DejaVuSans-5b\" d=\"M 550 4863 \nL 1875 4863 \nL 1875 4416 \nL 1125 4416 \nL 1125 -397 \nL 1875 -397 \nL 1875 -844 \nL 550 -844 \nL 550 4863 \nz\n\" transform=\"scale(0.015625)\"/>\n       <path id=\"DejaVuSans-67\" d=\"M 2906 1791 \nQ 2906 2416 2648 2759 \nQ 2391 3103 1925 3103 \nQ 1463 3103 1205 2759 \nQ 947 2416 947 1791 \nQ 947 1169 1205 825 \nQ 1463 481 1925 481 \nQ 2391 481 2648 825 \nQ 2906 1169 2906 1791 \nz\nM 3481 434 \nQ 3481 -459 3084 -895 \nQ 2688 -1331 1869 -1331 \nQ 1566 -1331 1297 -1286 \nQ 1028 -1241 775 -1147 \nL 775 -588 \nQ 1028 -725 1275 -790 \nQ 1522 -856 1778 -856 \nQ 2344 -856 2625 -561 \nQ 2906 -266 2906 331 \nL 2906 616 \nQ 2728 306 2450 153 \nQ 2172 0 1784 0 \nQ 1141 0 747 490 \nQ 353 981 353 1791 \nQ 353 2603 747 3093 \nQ 1141 3584 1784 3584 \nQ 2172 3584 2450 3431 \nQ 2728 3278 2906 2969 \nL 2906 3500 \nL 3481 3500 \nL 3481 434 \nz\n\" transform=\"scale(0.015625)\"/>\n       <path id=\"DejaVuSans-6d\" d=\"M 3328 2828 \nQ 3544 3216 3844 3400 \nQ 4144 3584 4550 3584 \nQ 5097 3584 5394 3201 \nQ 5691 2819 5691 2113 \nL 5691 0 \nL 5113 0 \nL 5113 2094 \nQ 5113 2597 4934 2840 \nQ 4756 3084 4391 3084 \nQ 3944 3084 3684 2787 \nQ 3425 2491 3425 1978 \nL 3425 0 \nL 2847 0 \nL 2847 2094 \nQ 2847 2600 2669 2842 \nQ 2491 3084 2119 3084 \nQ 1678 3084 1418 2786 \nQ 1159 2488 1159 1978 \nL 1159 0 \nL 581 0 \nL 581 3500 \nL 1159 3500 \nL 1159 2956 \nQ 1356 3278 1631 3431 \nQ 1906 3584 2284 3584 \nQ 2666 3584 2933 3390 \nQ 3200 3197 3328 2828 \nz\n\" transform=\"scale(0.015625)\"/>\n       <path id=\"DejaVuSans-2212\" d=\"M 678 2272 \nL 4684 2272 \nL 4684 1741 \nL 678 1741 \nL 678 2272 \nz\n\" transform=\"scale(0.015625)\"/>\n       <path id=\"DejaVuSans-5d\" d=\"M 1947 4863 \nL 1947 -844 \nL 622 -844 \nL 622 -397 \nL 1369 -397 \nL 1369 4416 \nL 622 4416 \nL 622 4863 \nL 1947 4863 \nz\n\" transform=\"scale(0.015625)\"/>\n      </defs>\n      <use xlink:href=\"#DejaVuSans-4c\" transform=\"translate(0 0.765625)\"/>\n      <use xlink:href=\"#DejaVuSans-57\" transform=\"translate(55.712891 0.765625)\"/>\n      <use xlink:href=\"#DejaVuSans-50\" transform=\"translate(154.589844 0.765625)\"/>\n      <use xlink:href=\"#DejaVuSans-20\" transform=\"translate(214.892578 0.765625)\"/>\n      <use xlink:href=\"#DejaVuSans-5b\" transform=\"translate(246.679688 0.765625)\"/>\n      <use xlink:href=\"#DejaVuSans-67\" transform=\"translate(285.693359 0.765625)\"/>\n      <use xlink:href=\"#DejaVuSans-20\" transform=\"translate(349.169922 0.765625)\"/>\n      <use xlink:href=\"#DejaVuSans-6d\" transform=\"translate(380.957031 0.765625)\"/>\n      <use xlink:href=\"#DejaVuSans-2212\" transform=\"translate(479.326172 39.046875)scale(0.7)\"/>\n      <use xlink:href=\"#DejaVuSans-32\" transform=\"translate(537.978516 39.046875)scale(0.7)\"/>\n      <use xlink:href=\"#DejaVuSans-5d\" transform=\"translate(585.249023 0.765625)\"/>\n     </g>\n    </g>\n   </g>\n   <g id=\"patch_35\">\n    <path d=\"M 63.63125 137.632234 \nL 63.63125 9.253132 \n\" style=\"fill: none; stroke: #000000; stroke-width: 0.8; stroke-linejoin: miter; stroke-linecap: square\"/>\n   </g>\n   <g id=\"patch_36\">\n    <path d=\"M 721.19952 137.632234 \nL 721.19952 9.253132 \n\" style=\"fill: none; stroke: #000000; stroke-width: 0.8; stroke-linejoin: miter; stroke-linecap: square\"/>\n   </g>\n   <g id=\"patch_37\">\n    <path d=\"M 63.63125 137.632234 \nL 721.19952 137.632234 \n\" style=\"fill: none; stroke: #000000; stroke-width: 0.8; stroke-linejoin: miter; stroke-linecap: square\"/>\n   </g>\n   <g id=\"patch_38\">\n    <path d=\"M 63.63125 9.253132 \nL 721.19952 9.253132 \n\" style=\"fill: none; stroke: #000000; stroke-width: 0.8; stroke-linejoin: miter; stroke-linecap: square\"/>\n   </g>\n   <g id=\"legend_1\">\n    <g id=\"patch_39\">\n     <path d=\"M 647.407332 75.965632 \nL 714.19952 75.965632 \nQ 716.19952 75.965632 716.19952 73.965632 \nL 716.19952 16.253132 \nQ 716.19952 14.253132 714.19952 14.253132 \nL 647.407332 14.253132 \nQ 645.407332 14.253132 645.407332 16.253132 \nL 645.407332 73.965632 \nQ 645.407332 75.965632 647.407332 75.965632 \nz\n\" style=\"fill: #ffffff; opacity: 0.8; stroke: #cccccc; stroke-linejoin: miter\"/>\n    </g>\n    <g id=\"patch_40\">\n     <path d=\"M 649.407332 25.85157 \nL 669.407332 25.85157 \nL 669.407332 18.85157 \nL 649.407332 18.85157 \nz\n\"/>\n    </g>\n    <g id=\"text_5\">\n     <!-- CONST -->\n     <g transform=\"translate(677.407332 25.85157)scale(0.1 -0.1)\">\n      <defs>\n       <path id=\"DejaVuSans-43\" d=\"M 4122 4306 \nL 4122 3641 \nQ 3803 3938 3442 4084 \nQ 3081 4231 2675 4231 \nQ 1875 4231 1450 3742 \nQ 1025 3253 1025 2328 \nQ 1025 1406 1450 917 \nQ 1875 428 2675 428 \nQ 3081 428 3442 575 \nQ 3803 722 4122 1019 \nL 4122 359 \nQ 3791 134 3420 21 \nQ 3050 -91 2638 -91 \nQ 1578 -91 968 557 \nQ 359 1206 359 2328 \nQ 359 3453 968 4101 \nQ 1578 4750 2638 4750 \nQ 3056 4750 3426 4639 \nQ 3797 4528 4122 4306 \nz\n\" transform=\"scale(0.015625)\"/>\n       <path id=\"DejaVuSans-4f\" d=\"M 2522 4238 \nQ 1834 4238 1429 3725 \nQ 1025 3213 1025 2328 \nQ 1025 1447 1429 934 \nQ 1834 422 2522 422 \nQ 3209 422 3611 934 \nQ 4013 1447 4013 2328 \nQ 4013 3213 3611 3725 \nQ 3209 4238 2522 4238 \nz\nM 2522 4750 \nQ 3503 4750 4090 4092 \nQ 4678 3434 4678 2328 \nQ 4678 1225 4090 567 \nQ 3503 -91 2522 -91 \nQ 1538 -91 948 565 \nQ 359 1222 359 2328 \nQ 359 3434 948 4092 \nQ 1538 4750 2522 4750 \nz\n\" transform=\"scale(0.015625)\"/>\n       <path id=\"DejaVuSans-4e\" d=\"M 628 4666 \nL 1478 4666 \nL 3547 763 \nL 3547 4666 \nL 4159 4666 \nL 4159 0 \nL 3309 0 \nL 1241 3903 \nL 1241 0 \nL 628 0 \nL 628 4666 \nz\n\" transform=\"scale(0.015625)\"/>\n       <path id=\"DejaVuSans-53\" d=\"M 3425 4513 \nL 3425 3897 \nQ 3066 4069 2747 4153 \nQ 2428 4238 2131 4238 \nQ 1616 4238 1336 4038 \nQ 1056 3838 1056 3469 \nQ 1056 3159 1242 3001 \nQ 1428 2844 1947 2747 \nL 2328 2669 \nQ 3034 2534 3370 2195 \nQ 3706 1856 3706 1288 \nQ 3706 609 3251 259 \nQ 2797 -91 1919 -91 \nQ 1588 -91 1214 -16 \nQ 841 59 441 206 \nL 441 856 \nQ 825 641 1194 531 \nQ 1563 422 1919 422 \nQ 2459 422 2753 634 \nQ 3047 847 3047 1241 \nQ 3047 1584 2836 1778 \nQ 2625 1972 2144 2069 \nL 1759 2144 \nQ 1053 2284 737 2584 \nQ 422 2884 422 3419 \nQ 422 4038 858 4394 \nQ 1294 4750 2059 4750 \nQ 2388 4750 2728 4690 \nQ 3069 4631 3425 4513 \nz\n\" transform=\"scale(0.015625)\"/>\n       <path id=\"DejaVuSans-54\" d=\"M -19 4666 \nL 3928 4666 \nL 3928 4134 \nL 2272 4134 \nL 2272 0 \nL 1638 0 \nL 1638 4134 \nL -19 4134 \nL -19 4666 \nz\n\" transform=\"scale(0.015625)\"/>\n      </defs>\n      <use xlink:href=\"#DejaVuSans-43\"/>\n      <use xlink:href=\"#DejaVuSans-4f\" x=\"69.824219\"/>\n      <use xlink:href=\"#DejaVuSans-4e\" x=\"148.535156\"/>\n      <use xlink:href=\"#DejaVuSans-53\" x=\"223.339844\"/>\n      <use xlink:href=\"#DejaVuSans-54\" x=\"286.816406\"/>\n     </g>\n    </g>\n    <g id=\"patch_41\">\n     <path d=\"M 649.407332 40.529695 \nL 669.407332 40.529695 \nL 669.407332 33.529695 \nL 649.407332 33.529695 \nz\n\" style=\"fill: #1f77b4\"/>\n    </g>\n    <g id=\"text_6\">\n     <!-- OV -->\n     <g transform=\"translate(677.407332 40.529695)scale(0.1 -0.1)\">\n      <defs>\n       <path id=\"DejaVuSans-56\" d=\"M 1831 0 \nL 50 4666 \nL 709 4666 \nL 2188 738 \nL 3669 4666 \nL 4325 4666 \nL 2547 0 \nL 1831 0 \nz\n\" transform=\"scale(0.015625)\"/>\n      </defs>\n      <use xlink:href=\"#DejaVuSans-4f\"/>\n      <use xlink:href=\"#DejaVuSans-56\" x=\"76.960938\"/>\n     </g>\n    </g>\n    <g id=\"patch_42\">\n     <path d=\"M 649.407332 55.20782 \nL 669.407332 55.20782 \nL 669.407332 48.20782 \nL 649.407332 48.20782 \nz\n\" style=\"fill: #2ca02c\"/>\n    </g>\n    <g id=\"text_7\">\n     <!-- SL -->\n     <g transform=\"translate(677.407332 55.20782)scale(0.1 -0.1)\">\n      <use xlink:href=\"#DejaVuSans-53\"/>\n      <use xlink:href=\"#DejaVuSans-4c\" x=\"63.476562\"/>\n     </g>\n    </g>\n    <g id=\"patch_43\">\n     <path d=\"M 649.407332 69.885945 \nL 669.407332 69.885945 \nL 669.407332 62.885945 \nL 649.407332 62.885945 \nz\n\" style=\"fill: #ff7f0e\"/>\n    </g>\n    <g id=\"text_8\">\n     <!-- RU -->\n     <g transform=\"translate(677.407332 69.885945)scale(0.1 -0.1)\">\n      <defs>\n       <path id=\"DejaVuSans-52\" d=\"M 2841 2188 \nQ 3044 2119 3236 1894 \nQ 3428 1669 3622 1275 \nL 4263 0 \nL 3584 0 \nL 2988 1197 \nQ 2756 1666 2539 1819 \nQ 2322 1972 1947 1972 \nL 1259 1972 \nL 1259 0 \nL 628 0 \nL 628 4666 \nL 2053 4666 \nQ 2853 4666 3247 4331 \nQ 3641 3997 3641 3322 \nQ 3641 2881 3436 2590 \nQ 3231 2300 2841 2188 \nz\nM 1259 4147 \nL 1259 2491 \nL 2053 2491 \nQ 2509 2491 2742 2702 \nQ 2975 2913 2975 3322 \nQ 2975 3731 2742 3939 \nQ 2509 4147 2053 4147 \nL 1259 4147 \nz\n\" transform=\"scale(0.015625)\"/>\n       <path id=\"DejaVuSans-55\" d=\"M 556 4666 \nL 1191 4666 \nL 1191 1831 \nQ 1191 1081 1462 751 \nQ 1734 422 2344 422 \nQ 2950 422 3222 751 \nQ 3494 1081 3494 1831 \nL 3494 4666 \nL 4128 4666 \nL 4128 1753 \nQ 4128 841 3676 375 \nQ 3225 -91 2344 -91 \nQ 1459 -91 1007 375 \nQ 556 841 556 1753 \nL 556 4666 \nz\n\" transform=\"scale(0.015625)\"/>\n      </defs>\n      <use xlink:href=\"#DejaVuSans-52\"/>\n      <use xlink:href=\"#DejaVuSans-55\" x=\"69.482422\"/>\n     </g>\n    </g>\n   </g>\n  </g>\n  <g id=\"axes_2\">\n   <g id=\"patch_44\">\n    <path d=\"M 63.63125 282.881229 \nL 721.19952 282.881229 \nL 721.19952 154.502128 \nL 63.63125 154.502128 \nz\n\" style=\"fill: #ffffff\"/>\n   </g>\n   <g id=\"patch_45\">\n    <path d=\"M 93.520717 282.881229 \nL 108.848649 282.881229 \nL 108.848649 221.748491 \nL 93.520717 221.748491 \nz\n\" clip-path=\"url(#p72a77fcf17)\"/>\n   </g>\n   <g id=\"patch_46\">\n    <path d=\"M 108.848649 282.881229 \nL 124.17658 282.881229 \nL 124.17658 221.748491 \nL 108.848649 221.748491 \nz\n\" clip-path=\"url(#p72a77fcf17)\" style=\"fill: #1f77b4\"/>\n   </g>\n   <g id=\"patch_47\">\n    <path d=\"M 124.17658 282.881229 \nL 139.504512 282.881229 \nL 139.504512 221.748491 \nL 124.17658 221.748491 \nz\n\" clip-path=\"url(#p72a77fcf17)\" style=\"fill: #2ca02c\"/>\n   </g>\n   <g id=\"patch_48\">\n    <path d=\"M 139.504512 282.881229 \nL 154.832444 282.881229 \nL 154.832444 221.748584 \nL 139.504512 221.748584 \nz\n\" clip-path=\"url(#p72a77fcf17)\" style=\"fill: #ff7f0e\"/>\n   </g>\n   <g id=\"patch_49\">\n    <path d=\"M 170.160375 282.881229 \nL 185.488307 282.881229 \nL 185.488307 221.743349 \nL 170.160375 221.743349 \nz\n\" clip-path=\"url(#p72a77fcf17)\"/>\n   </g>\n   <g id=\"patch_50\">\n    <path d=\"M 185.488307 282.881229 \nL 200.816239 282.881229 \nL 200.816239 221.743337 \nL 185.488307 221.743337 \nz\n\" clip-path=\"url(#p72a77fcf17)\" style=\"fill: #1f77b4\"/>\n   </g>\n   <g id=\"patch_51\">\n    <path d=\"M 200.816239 282.881229 \nL 216.14417 282.881229 \nL 216.14417 221.743151 \nL 200.816239 221.743151 \nz\n\" clip-path=\"url(#p72a77fcf17)\" style=\"fill: #2ca02c\"/>\n   </g>\n   <g id=\"patch_52\">\n    <path d=\"M 216.14417 282.881229 \nL 231.472102 282.881229 \nL 231.472102 221.743515 \nL 216.14417 221.743515 \nz\n\" clip-path=\"url(#p72a77fcf17)\" style=\"fill: #ff7f0e\"/>\n   </g>\n   <g id=\"patch_53\">\n    <path d=\"M 246.800034 282.881229 \nL 262.127966 282.881229 \nL 262.127966 267.597797 \nL 246.800034 267.597797 \nz\n\" clip-path=\"url(#p72a77fcf17)\"/>\n   </g>\n   <g id=\"patch_54\">\n    <path d=\"M 262.127966 282.881229 \nL 277.455897 282.881229 \nL 277.455897 267.597797 \nL 262.127966 267.597797 \nz\n\" clip-path=\"url(#p72a77fcf17)\" style=\"fill: #1f77b4\"/>\n   </g>\n   <g id=\"patch_55\">\n    <path d=\"M 277.455897 282.881229 \nL 292.783829 282.881229 \nL 292.783829 267.597797 \nL 277.455897 267.597797 \nz\n\" clip-path=\"url(#p72a77fcf17)\" style=\"fill: #2ca02c\"/>\n   </g>\n   <g id=\"patch_56\">\n    <path d=\"M 292.783829 282.881229 \nL 308.111761 282.881229 \nL 308.111761 267.597813 \nL 292.783829 267.597813 \nz\n\" clip-path=\"url(#p72a77fcf17)\" style=\"fill: #ff7f0e\"/>\n   </g>\n   <g id=\"patch_57\">\n    <path d=\"M 323.439692 282.881229 \nL 338.767624 282.881229 \nL 338.767624 160.615418 \nL 323.439692 160.615418 \nz\n\" clip-path=\"url(#p72a77fcf17)\"/>\n   </g>\n   <g id=\"patch_58\">\n    <path d=\"M 338.767624 282.881229 \nL 354.095556 282.881229 \nL 354.095556 160.615418 \nL 338.767624 160.615418 \nz\n\" clip-path=\"url(#p72a77fcf17)\" style=\"fill: #1f77b4\"/>\n   </g>\n   <g id=\"patch_59\">\n    <path d=\"M 354.095556 282.881229 \nL 369.423487 282.881229 \nL 369.423487 160.615418 \nL 354.095556 160.615418 \nz\n\" clip-path=\"url(#p72a77fcf17)\" style=\"fill: #2ca02c\"/>\n   </g>\n   <g id=\"patch_60\">\n    <path d=\"M 369.423487 282.881229 \nL 384.751419 282.881229 \nL 384.751419 160.615654 \nL 369.423487 160.615654 \nz\n\" clip-path=\"url(#p72a77fcf17)\" style=\"fill: #ff7f0e\"/>\n   </g>\n   <g id=\"patch_61\">\n    <path d=\"M 400.079351 282.881229 \nL 415.407283 282.881229 \nL 415.407283 221.748183 \nL 400.079351 221.748183 \nz\n\" clip-path=\"url(#p72a77fcf17)\"/>\n   </g>\n   <g id=\"patch_62\">\n    <path d=\"M 415.407283 282.881229 \nL 430.735214 282.881229 \nL 430.735214 221.748183 \nL 415.407283 221.748183 \nz\n\" clip-path=\"url(#p72a77fcf17)\" style=\"fill: #1f77b4\"/>\n   </g>\n   <g id=\"patch_63\">\n    <path d=\"M 430.735214 282.881229 \nL 446.063146 282.881229 \nL 446.063146 221.748184 \nL 430.735214 221.748184 \nz\n\" clip-path=\"url(#p72a77fcf17)\" style=\"fill: #2ca02c\"/>\n   </g>\n   <g id=\"patch_64\">\n    <path d=\"M 446.063146 282.881229 \nL 461.391078 282.881229 \nL 461.391078 221.748277 \nL 446.063146 221.748277 \nz\n\" clip-path=\"url(#p72a77fcf17)\" style=\"fill: #ff7f0e\"/>\n   </g>\n   <g id=\"patch_65\">\n    <path d=\"M 476.719009 282.881229 \nL 492.046941 282.881229 \nL 492.046941 221.748184 \nL 476.719009 221.748184 \nz\n\" clip-path=\"url(#p72a77fcf17)\"/>\n   </g>\n   <g id=\"patch_66\">\n    <path d=\"M 492.046941 282.881229 \nL 507.374873 282.881229 \nL 507.374873 221.748184 \nL 492.046941 221.748184 \nz\n\" clip-path=\"url(#p72a77fcf17)\" style=\"fill: #1f77b4\"/>\n   </g>\n   <g id=\"patch_67\">\n    <path d=\"M 507.374873 282.881229 \nL 522.702804 282.881229 \nL 522.702804 221.748183 \nL 507.374873 221.748183 \nz\n\" clip-path=\"url(#p72a77fcf17)\" style=\"fill: #2ca02c\"/>\n   </g>\n   <g id=\"patch_68\">\n    <path d=\"M 522.702804 282.881229 \nL 538.030736 282.881229 \nL 538.030736 221.748277 \nL 522.702804 221.748277 \nz\n\" clip-path=\"url(#p72a77fcf17)\" style=\"fill: #ff7f0e\"/>\n   </g>\n   <g id=\"patch_69\">\n    <path d=\"M 553.358668 282.881229 \nL 568.6866 282.881229 \nL 568.6866 221.748183 \nL 553.358668 221.748183 \nz\n\" clip-path=\"url(#p72a77fcf17)\"/>\n   </g>\n   <g id=\"patch_70\">\n    <path d=\"M 568.6866 282.881229 \nL 584.014531 282.881229 \nL 584.014531 221.748183 \nL 568.6866 221.748183 \nz\n\" clip-path=\"url(#p72a77fcf17)\" style=\"fill: #1f77b4\"/>\n   </g>\n   <g id=\"patch_71\">\n    <path d=\"M 584.014531 282.881229 \nL 599.342463 282.881229 \nL 599.342463 221.748184 \nL 584.014531 221.748184 \nz\n\" clip-path=\"url(#p72a77fcf17)\" style=\"fill: #2ca02c\"/>\n   </g>\n   <g id=\"patch_72\">\n    <path d=\"M 599.342463 282.881229 \nL 614.670395 282.881229 \nL 614.670395 221.748277 \nL 599.342463 221.748277 \nz\n\" clip-path=\"url(#p72a77fcf17)\" style=\"fill: #ff7f0e\"/>\n   </g>\n   <g id=\"patch_73\">\n    <path d=\"M 629.998326 282.881229 \nL 645.326258 282.881229 \nL 645.326258 221.748183 \nL 629.998326 221.748183 \nz\n\" clip-path=\"url(#p72a77fcf17)\"/>\n   </g>\n   <g id=\"patch_74\">\n    <path d=\"M 645.326258 282.881229 \nL 660.65419 282.881229 \nL 660.65419 221.748183 \nL 645.326258 221.748183 \nz\n\" clip-path=\"url(#p72a77fcf17)\" style=\"fill: #1f77b4\"/>\n   </g>\n   <g id=\"patch_75\">\n    <path d=\"M 660.65419 282.881229 \nL 675.982121 282.881229 \nL 675.982121 221.748183 \nL 660.65419 221.748183 \nz\n\" clip-path=\"url(#p72a77fcf17)\" style=\"fill: #2ca02c\"/>\n   </g>\n   <g id=\"patch_76\">\n    <path d=\"M 675.982121 282.881229 \nL 691.310053 282.881229 \nL 691.310053 221.748277 \nL 675.982121 221.748277 \nz\n\" clip-path=\"url(#p72a77fcf17)\" style=\"fill: #ff7f0e\"/>\n   </g>\n   <g id=\"matplotlib.axis_3\">\n    <g id=\"xtick_9\">\n     <g id=\"line2d_12\">\n      <g>\n       <use xlink:href=\"#mef6b3b942c\" x=\"124.17658\" y=\"282.881229\" style=\"stroke: #000000; stroke-width: 0.8\"/>\n      </g>\n     </g>\n    </g>\n    <g id=\"xtick_10\">\n     <g id=\"line2d_13\">\n      <g>\n       <use xlink:href=\"#mef6b3b942c\" x=\"200.816239\" y=\"282.881229\" style=\"stroke: #000000; stroke-width: 0.8\"/>\n      </g>\n     </g>\n    </g>\n    <g id=\"xtick_11\">\n     <g id=\"line2d_14\">\n      <g>\n       <use xlink:href=\"#mef6b3b942c\" x=\"277.455897\" y=\"282.881229\" style=\"stroke: #000000; stroke-width: 0.8\"/>\n      </g>\n     </g>\n    </g>\n    <g id=\"xtick_12\">\n     <g id=\"line2d_15\">\n      <g>\n       <use xlink:href=\"#mef6b3b942c\" x=\"354.095556\" y=\"282.881229\" style=\"stroke: #000000; stroke-width: 0.8\"/>\n      </g>\n     </g>\n    </g>\n    <g id=\"xtick_13\">\n     <g id=\"line2d_16\">\n      <g>\n       <use xlink:href=\"#mef6b3b942c\" x=\"430.735214\" y=\"282.881229\" style=\"stroke: #000000; stroke-width: 0.8\"/>\n      </g>\n     </g>\n    </g>\n    <g id=\"xtick_14\">\n     <g id=\"line2d_17\">\n      <g>\n       <use xlink:href=\"#mef6b3b942c\" x=\"507.374873\" y=\"282.881229\" style=\"stroke: #000000; stroke-width: 0.8\"/>\n      </g>\n     </g>\n    </g>\n    <g id=\"xtick_15\">\n     <g id=\"line2d_18\">\n      <g>\n       <use xlink:href=\"#mef6b3b942c\" x=\"584.014531\" y=\"282.881229\" style=\"stroke: #000000; stroke-width: 0.8\"/>\n      </g>\n     </g>\n    </g>\n    <g id=\"xtick_16\">\n     <g id=\"line2d_19\">\n      <g>\n       <use xlink:href=\"#mef6b3b942c\" x=\"660.65419\" y=\"282.881229\" style=\"stroke: #000000; stroke-width: 0.8\"/>\n      </g>\n     </g>\n    </g>\n   </g>\n   <g id=\"matplotlib.axis_4\">\n    <g id=\"ytick_4\">\n     <g id=\"line2d_20\">\n      <g>\n       <use xlink:href=\"#m3da6172d20\" x=\"63.63125\" y=\"282.881229\" style=\"stroke: #000000; stroke-width: 0.8\"/>\n      </g>\n     </g>\n     <g id=\"text_9\">\n      <!-- 0 -->\n      <g transform=\"translate(47.0875 288.580057)scale(0.15 -0.15)\">\n       <use xlink:href=\"#DejaVuSans-30\"/>\n      </g>\n     </g>\n    </g>\n    <g id=\"ytick_5\">\n     <g id=\"line2d_21\">\n      <g>\n       <use xlink:href=\"#m3da6172d20\" x=\"63.63125\" y=\"220.514526\" style=\"stroke: #000000; stroke-width: 0.8\"/>\n      </g>\n     </g>\n     <g id=\"text_10\">\n      <!-- 200 -->\n      <g transform=\"translate(28 226.213354)scale(0.15 -0.15)\">\n       <use xlink:href=\"#DejaVuSans-32\"/>\n       <use xlink:href=\"#DejaVuSans-30\" x=\"63.623047\"/>\n       <use xlink:href=\"#DejaVuSans-30\" x=\"127.246094\"/>\n      </g>\n     </g>\n    </g>\n    <g id=\"ytick_6\">\n     <g id=\"line2d_22\">\n      <g>\n       <use xlink:href=\"#m3da6172d20\" x=\"63.63125\" y=\"158.147823\" style=\"stroke: #000000; stroke-width: 0.8\"/>\n      </g>\n     </g>\n     <g id=\"text_11\">\n      <!-- 400 -->\n      <g transform=\"translate(28 163.846651)scale(0.15 -0.15)\">\n       <use xlink:href=\"#DejaVuSans-34\"/>\n       <use xlink:href=\"#DejaVuSans-30\" x=\"63.623047\"/>\n       <use xlink:href=\"#DejaVuSans-30\" x=\"127.246094\"/>\n      </g>\n     </g>\n    </g>\n    <g id=\"text_12\">\n     <!-- $r_{eff}$ [$\\mu$m] -->\n     <g transform=\"translate(20.85 249.291678)rotate(-90)scale(0.15 -0.15)\">\n      <defs>\n       <path id=\"DejaVuSans-Oblique-72\" d=\"M 2853 2969 \nQ 2766 3016 2653 3041 \nQ 2541 3066 2413 3066 \nQ 1953 3066 1609 2717 \nQ 1266 2369 1153 1784 \nL 800 0 \nL 225 0 \nL 909 3500 \nL 1484 3500 \nL 1375 2956 \nQ 1603 3259 1920 3421 \nQ 2238 3584 2597 3584 \nQ 2691 3584 2781 3573 \nQ 2872 3563 2963 3538 \nL 2853 2969 \nz\n\" transform=\"scale(0.015625)\"/>\n       <path id=\"DejaVuSans-Oblique-65\" d=\"M 3078 2063 \nQ 3088 2113 3092 2166 \nQ 3097 2219 3097 2272 \nQ 3097 2653 2873 2875 \nQ 2650 3097 2266 3097 \nQ 1838 3097 1509 2826 \nQ 1181 2556 1013 2059 \nL 3078 2063 \nz\nM 3578 1613 \nL 903 1613 \nQ 884 1494 878 1425 \nQ 872 1356 872 1306 \nQ 872 872 1139 634 \nQ 1406 397 1894 397 \nQ 2269 397 2603 481 \nQ 2938 566 3225 728 \nL 3116 159 \nQ 2806 34 2476 -28 \nQ 2147 -91 1806 -91 \nQ 1078 -91 686 257 \nQ 294 606 294 1247 \nQ 294 1794 489 2264 \nQ 684 2734 1063 3103 \nQ 1306 3334 1642 3459 \nQ 1978 3584 2356 3584 \nQ 2950 3584 3301 3228 \nQ 3653 2872 3653 2272 \nQ 3653 2128 3634 1964 \nQ 3616 1800 3578 1613 \nz\n\" transform=\"scale(0.015625)\"/>\n       <path id=\"DejaVuSans-Oblique-66\" d=\"M 3059 4863 \nL 2969 4384 \nL 2419 4384 \nQ 2106 4384 1964 4261 \nQ 1822 4138 1753 3809 \nL 1691 3500 \nL 2638 3500 \nL 2553 3053 \nL 1606 3053 \nL 1013 0 \nL 434 0 \nL 1031 3053 \nL 481 3053 \nL 563 3500 \nL 1113 3500 \nL 1159 3744 \nQ 1278 4363 1576 4613 \nQ 1875 4863 2516 4863 \nL 3059 4863 \nz\n\" transform=\"scale(0.015625)\"/>\n       <path id=\"DejaVuSans-Oblique-3bc\" d=\"M -84 -1331 \nL 856 3500 \nL 1434 3500 \nL 1009 1322 \nQ 997 1256 987 1175 \nQ 978 1094 978 1013 \nQ 978 722 1161 565 \nQ 1344 409 1684 409 \nQ 2147 409 2431 671 \nQ 2716 934 2816 1459 \nL 3213 3500 \nL 3788 3500 \nL 3266 809 \nQ 3253 750 3248 706 \nQ 3244 663 3244 628 \nQ 3244 531 3283 486 \nQ 3322 441 3406 441 \nQ 3438 441 3492 456 \nQ 3547 472 3647 513 \nL 3559 50 \nQ 3422 -19 3297 -55 \nQ 3172 -91 3053 -91 \nQ 2847 -91 2730 40 \nQ 2613 172 2613 403 \nQ 2438 153 2195 31 \nQ 1953 -91 1625 -91 \nQ 1334 -91 1117 43 \nQ 900 178 831 397 \nL 494 -1331 \nL -84 -1331 \nz\n\" transform=\"scale(0.015625)\"/>\n      </defs>\n      <use xlink:href=\"#DejaVuSans-Oblique-72\" transform=\"translate(0 0.015625)\"/>\n      <use xlink:href=\"#DejaVuSans-Oblique-65\" transform=\"translate(41.113281 -16.390625)scale(0.7)\"/>\n      <use xlink:href=\"#DejaVuSans-Oblique-66\" transform=\"translate(84.179687 -16.390625)scale(0.7)\"/>\n      <use xlink:href=\"#DejaVuSans-Oblique-66\" transform=\"translate(108.823242 -16.390625)scale(0.7)\"/>\n      <use xlink:href=\"#DejaVuSans-20\" transform=\"translate(136.201172 0.015625)\"/>\n      <use xlink:href=\"#DejaVuSans-5b\" transform=\"translate(167.988281 0.015625)\"/>\n      <use xlink:href=\"#DejaVuSans-Oblique-3bc\" transform=\"translate(207.001953 0.015625)\"/>\n      <use xlink:href=\"#DejaVuSans-6d\" transform=\"translate(270.625 0.015625)\"/>\n      <use xlink:href=\"#DejaVuSans-5d\" transform=\"translate(368.037109 0.015625)\"/>\n     </g>\n    </g>\n   </g>\n   <g id=\"patch_77\">\n    <path d=\"M 63.63125 282.881229 \nL 63.63125 154.502128 \n\" style=\"fill: none; stroke: #000000; stroke-width: 0.8; stroke-linejoin: miter; stroke-linecap: square\"/>\n   </g>\n   <g id=\"patch_78\">\n    <path d=\"M 721.19952 282.881229 \nL 721.19952 154.502128 \n\" style=\"fill: none; stroke: #000000; stroke-width: 0.8; stroke-linejoin: miter; stroke-linecap: square\"/>\n   </g>\n   <g id=\"patch_79\">\n    <path d=\"M 63.63125 282.881229 \nL 721.19952 282.881229 \n\" style=\"fill: none; stroke: #000000; stroke-width: 0.8; stroke-linejoin: miter; stroke-linecap: square\"/>\n   </g>\n   <g id=\"patch_80\">\n    <path d=\"M 63.63125 154.502128 \nL 721.19952 154.502128 \n\" style=\"fill: none; stroke: #000000; stroke-width: 0.8; stroke-linejoin: miter; stroke-linecap: square\"/>\n   </g>\n  </g>\n  <g id=\"axes_3\">\n   <g id=\"patch_81\">\n    <path d=\"M 63.63125 428.130224 \nL 721.19952 428.130224 \nL 721.19952 299.751123 \nL 63.63125 299.751123 \nz\n\" style=\"fill: #ffffff\"/>\n   </g>\n   <g id=\"patch_82\">\n    <path d=\"M 93.520717 428.130224 \nL 108.848649 428.130224 \nL 108.848649 366.997486 \nL 93.520717 366.997486 \nz\n\" clip-path=\"url(#p116ae5865d)\"/>\n   </g>\n   <g id=\"patch_83\">\n    <path d=\"M 108.848649 428.130224 \nL 124.17658 428.130224 \nL 124.17658 366.997486 \nL 108.848649 366.997486 \nz\n\" clip-path=\"url(#p116ae5865d)\" style=\"fill: #1f77b4\"/>\n   </g>\n   <g id=\"patch_84\">\n    <path d=\"M 124.17658 428.130224 \nL 139.504512 428.130224 \nL 139.504512 366.997486 \nL 124.17658 366.997486 \nz\n\" clip-path=\"url(#p116ae5865d)\" style=\"fill: #2ca02c\"/>\n   </g>\n   <g id=\"patch_85\">\n    <path d=\"M 139.504512 428.130224 \nL 154.832444 428.130224 \nL 154.832444 366.997579 \nL 139.504512 366.997579 \nz\n\" clip-path=\"url(#p116ae5865d)\" style=\"fill: #ff7f0e\"/>\n   </g>\n   <g id=\"patch_86\">\n    <path d=\"M 170.160375 428.130224 \nL 185.488307 428.130224 \nL 185.488307 366.992344 \nL 170.160375 366.992344 \nz\n\" clip-path=\"url(#p116ae5865d)\"/>\n   </g>\n   <g id=\"patch_87\">\n    <path d=\"M 185.488307 428.130224 \nL 200.816239 428.130224 \nL 200.816239 366.992332 \nL 185.488307 366.992332 \nz\n\" clip-path=\"url(#p116ae5865d)\" style=\"fill: #1f77b4\"/>\n   </g>\n   <g id=\"patch_88\">\n    <path d=\"M 200.816239 428.130224 \nL 216.14417 428.130224 \nL 216.14417 366.992146 \nL 200.816239 366.992146 \nz\n\" clip-path=\"url(#p116ae5865d)\" style=\"fill: #2ca02c\"/>\n   </g>\n   <g id=\"patch_89\">\n    <path d=\"M 216.14417 428.130224 \nL 231.472102 428.130224 \nL 231.472102 366.99251 \nL 216.14417 366.99251 \nz\n\" clip-path=\"url(#p116ae5865d)\" style=\"fill: #ff7f0e\"/>\n   </g>\n   <g id=\"patch_90\">\n    <path d=\"M 246.800034 428.130224 \nL 262.127966 428.130224 \nL 262.127966 412.846792 \nL 246.800034 412.846792 \nz\n\" clip-path=\"url(#p116ae5865d)\"/>\n   </g>\n   <g id=\"patch_91\">\n    <path d=\"M 262.127966 428.130224 \nL 277.455897 428.130224 \nL 277.455897 412.846792 \nL 262.127966 412.846792 \nz\n\" clip-path=\"url(#p116ae5865d)\" style=\"fill: #1f77b4\"/>\n   </g>\n   <g id=\"patch_92\">\n    <path d=\"M 277.455897 428.130224 \nL 292.783829 428.130224 \nL 292.783829 412.846792 \nL 277.455897 412.846792 \nz\n\" clip-path=\"url(#p116ae5865d)\" style=\"fill: #2ca02c\"/>\n   </g>\n   <g id=\"patch_93\">\n    <path d=\"M 292.783829 428.130224 \nL 308.111761 428.130224 \nL 308.111761 412.846808 \nL 292.783829 412.846808 \nz\n\" clip-path=\"url(#p116ae5865d)\" style=\"fill: #ff7f0e\"/>\n   </g>\n   <g id=\"patch_94\">\n    <path d=\"M 323.439692 428.130224 \nL 338.767624 428.130224 \nL 338.767624 305.864413 \nL 323.439692 305.864413 \nz\n\" clip-path=\"url(#p116ae5865d)\"/>\n   </g>\n   <g id=\"patch_95\">\n    <path d=\"M 338.767624 428.130224 \nL 354.095556 428.130224 \nL 354.095556 305.864413 \nL 338.767624 305.864413 \nz\n\" clip-path=\"url(#p116ae5865d)\" style=\"fill: #1f77b4\"/>\n   </g>\n   <g id=\"patch_96\">\n    <path d=\"M 354.095556 428.130224 \nL 369.423487 428.130224 \nL 369.423487 305.864413 \nL 354.095556 305.864413 \nz\n\" clip-path=\"url(#p116ae5865d)\" style=\"fill: #2ca02c\"/>\n   </g>\n   <g id=\"patch_97\">\n    <path d=\"M 369.423487 428.130224 \nL 384.751419 428.130224 \nL 384.751419 305.864649 \nL 369.423487 305.864649 \nz\n\" clip-path=\"url(#p116ae5865d)\" style=\"fill: #ff7f0e\"/>\n   </g>\n   <g id=\"patch_98\">\n    <path d=\"M 400.079351 428.130224 \nL 415.407283 428.130224 \nL 415.407283 366.997178 \nL 400.079351 366.997178 \nz\n\" clip-path=\"url(#p116ae5865d)\"/>\n   </g>\n   <g id=\"patch_99\">\n    <path d=\"M 415.407283 428.130224 \nL 430.735214 428.130224 \nL 430.735214 366.997178 \nL 415.407283 366.997178 \nz\n\" clip-path=\"url(#p116ae5865d)\" style=\"fill: #1f77b4\"/>\n   </g>\n   <g id=\"patch_100\">\n    <path d=\"M 430.735214 428.130224 \nL 446.063146 428.130224 \nL 446.063146 366.997179 \nL 430.735214 366.997179 \nz\n\" clip-path=\"url(#p116ae5865d)\" style=\"fill: #2ca02c\"/>\n   </g>\n   <g id=\"patch_101\">\n    <path d=\"M 446.063146 428.130224 \nL 461.391078 428.130224 \nL 461.391078 366.997272 \nL 446.063146 366.997272 \nz\n\" clip-path=\"url(#p116ae5865d)\" style=\"fill: #ff7f0e\"/>\n   </g>\n   <g id=\"patch_102\">\n    <path d=\"M 476.719009 428.130224 \nL 492.046941 428.130224 \nL 492.046941 366.997179 \nL 476.719009 366.997179 \nz\n\" clip-path=\"url(#p116ae5865d)\"/>\n   </g>\n   <g id=\"patch_103\">\n    <path d=\"M 492.046941 428.130224 \nL 507.374873 428.130224 \nL 507.374873 366.997179 \nL 492.046941 366.997179 \nz\n\" clip-path=\"url(#p116ae5865d)\" style=\"fill: #1f77b4\"/>\n   </g>\n   <g id=\"patch_104\">\n    <path d=\"M 507.374873 428.130224 \nL 522.702804 428.130224 \nL 522.702804 366.997178 \nL 507.374873 366.997178 \nz\n\" clip-path=\"url(#p116ae5865d)\" style=\"fill: #2ca02c\"/>\n   </g>\n   <g id=\"patch_105\">\n    <path d=\"M 522.702804 428.130224 \nL 538.030736 428.130224 \nL 538.030736 366.997272 \nL 522.702804 366.997272 \nz\n\" clip-path=\"url(#p116ae5865d)\" style=\"fill: #ff7f0e\"/>\n   </g>\n   <g id=\"patch_106\">\n    <path d=\"M 553.358668 428.130224 \nL 568.6866 428.130224 \nL 568.6866 366.997178 \nL 553.358668 366.997178 \nz\n\" clip-path=\"url(#p116ae5865d)\"/>\n   </g>\n   <g id=\"patch_107\">\n    <path d=\"M 568.6866 428.130224 \nL 584.014531 428.130224 \nL 584.014531 366.997178 \nL 568.6866 366.997178 \nz\n\" clip-path=\"url(#p116ae5865d)\" style=\"fill: #1f77b4\"/>\n   </g>\n   <g id=\"patch_108\">\n    <path d=\"M 584.014531 428.130224 \nL 599.342463 428.130224 \nL 599.342463 366.997179 \nL 584.014531 366.997179 \nz\n\" clip-path=\"url(#p116ae5865d)\" style=\"fill: #2ca02c\"/>\n   </g>\n   <g id=\"patch_109\">\n    <path d=\"M 599.342463 428.130224 \nL 614.670395 428.130224 \nL 614.670395 366.997272 \nL 599.342463 366.997272 \nz\n\" clip-path=\"url(#p116ae5865d)\" style=\"fill: #ff7f0e\"/>\n   </g>\n   <g id=\"patch_110\">\n    <path d=\"M 629.998326 428.130224 \nL 645.326258 428.130224 \nL 645.326258 366.997178 \nL 629.998326 366.997178 \nz\n\" clip-path=\"url(#p116ae5865d)\"/>\n   </g>\n   <g id=\"patch_111\">\n    <path d=\"M 645.326258 428.130224 \nL 660.65419 428.130224 \nL 660.65419 366.997178 \nL 645.326258 366.997178 \nz\n\" clip-path=\"url(#p116ae5865d)\" style=\"fill: #1f77b4\"/>\n   </g>\n   <g id=\"patch_112\">\n    <path d=\"M 660.65419 428.130224 \nL 675.982121 428.130224 \nL 675.982121 366.997178 \nL 660.65419 366.997178 \nz\n\" clip-path=\"url(#p116ae5865d)\" style=\"fill: #2ca02c\"/>\n   </g>\n   <g id=\"patch_113\">\n    <path d=\"M 675.982121 428.130224 \nL 691.310053 428.130224 \nL 691.310053 366.997272 \nL 675.982121 366.997272 \nz\n\" clip-path=\"url(#p116ae5865d)\" style=\"fill: #ff7f0e\"/>\n   </g>\n   <g id=\"matplotlib.axis_5\">\n    <g id=\"xtick_17\">\n     <g id=\"line2d_23\">\n      <g>\n       <use xlink:href=\"#mef6b3b942c\" x=\"124.17658\" y=\"428.130224\" style=\"stroke: #000000; stroke-width: 0.8\"/>\n      </g>\n     </g>\n     <g id=\"text_13\">\n      <!-- slow -->\n      <g transform=\"translate(107.463299 446.52788)scale(0.15 -0.15)\">\n       <defs>\n        <path id=\"DejaVuSans-73\" d=\"M 2834 3397 \nL 2834 2853 \nQ 2591 2978 2328 3040 \nQ 2066 3103 1784 3103 \nQ 1356 3103 1142 2972 \nQ 928 2841 928 2578 \nQ 928 2378 1081 2264 \nQ 1234 2150 1697 2047 \nL 1894 2003 \nQ 2506 1872 2764 1633 \nQ 3022 1394 3022 966 \nQ 3022 478 2636 193 \nQ 2250 -91 1575 -91 \nQ 1294 -91 989 -36 \nQ 684 19 347 128 \nL 347 722 \nQ 666 556 975 473 \nQ 1284 391 1588 391 \nQ 1994 391 2212 530 \nQ 2431 669 2431 922 \nQ 2431 1156 2273 1281 \nQ 2116 1406 1581 1522 \nL 1381 1569 \nQ 847 1681 609 1914 \nQ 372 2147 372 2553 \nQ 372 3047 722 3315 \nQ 1072 3584 1716 3584 \nQ 2034 3584 2315 3537 \nQ 2597 3491 2834 3397 \nz\n\" transform=\"scale(0.015625)\"/>\n        <path id=\"DejaVuSans-6c\" d=\"M 603 4863 \nL 1178 4863 \nL 1178 0 \nL 603 0 \nL 603 4863 \nz\n\" transform=\"scale(0.015625)\"/>\n        <path id=\"DejaVuSans-6f\" d=\"M 1959 3097 \nQ 1497 3097 1228 2736 \nQ 959 2375 959 1747 \nQ 959 1119 1226 758 \nQ 1494 397 1959 397 \nQ 2419 397 2687 759 \nQ 2956 1122 2956 1747 \nQ 2956 2369 2687 2733 \nQ 2419 3097 1959 3097 \nz\nM 1959 3584 \nQ 2709 3584 3137 3096 \nQ 3566 2609 3566 1747 \nQ 3566 888 3137 398 \nQ 2709 -91 1959 -91 \nQ 1206 -91 779 398 \nQ 353 888 353 1747 \nQ 353 2609 779 3096 \nQ 1206 3584 1959 3584 \nz\n\" transform=\"scale(0.015625)\"/>\n        <path id=\"DejaVuSans-77\" d=\"M 269 3500 \nL 844 3500 \nL 1563 769 \nL 2278 3500 \nL 2956 3500 \nL 3675 769 \nL 4391 3500 \nL 4966 3500 \nL 4050 0 \nL 3372 0 \nL 2619 2869 \nL 1863 0 \nL 1184 0 \nL 269 3500 \nz\n\" transform=\"scale(0.015625)\"/>\n       </defs>\n       <use xlink:href=\"#DejaVuSans-73\"/>\n       <use xlink:href=\"#DejaVuSans-6c\" x=\"52.099609\"/>\n       <use xlink:href=\"#DejaVuSans-6f\" x=\"79.882812\"/>\n       <use xlink:href=\"#DejaVuSans-77\" x=\"141.064453\"/>\n      </g>\n     </g>\n    </g>\n    <g id=\"xtick_18\">\n     <g id=\"line2d_24\">\n      <g>\n       <use xlink:href=\"#mef6b3b942c\" x=\"200.816239\" y=\"428.130224\" style=\"stroke: #000000; stroke-width: 0.8\"/>\n      </g>\n     </g>\n     <g id=\"text_14\">\n      <!-- fast -->\n      <g transform=\"translate(186.732645 446.52788)scale(0.15 -0.15)\">\n       <defs>\n        <path id=\"DejaVuSans-66\" d=\"M 2375 4863 \nL 2375 4384 \nL 1825 4384 \nQ 1516 4384 1395 4259 \nQ 1275 4134 1275 3809 \nL 1275 3500 \nL 2222 3500 \nL 2222 3053 \nL 1275 3053 \nL 1275 0 \nL 697 0 \nL 697 3053 \nL 147 3053 \nL 147 3500 \nL 697 3500 \nL 697 3744 \nQ 697 4328 969 4595 \nQ 1241 4863 1831 4863 \nL 2375 4863 \nz\n\" transform=\"scale(0.015625)\"/>\n        <path id=\"DejaVuSans-61\" d=\"M 2194 1759 \nQ 1497 1759 1228 1600 \nQ 959 1441 959 1056 \nQ 959 750 1161 570 \nQ 1363 391 1709 391 \nQ 2188 391 2477 730 \nQ 2766 1069 2766 1631 \nL 2766 1759 \nL 2194 1759 \nz\nM 3341 1997 \nL 3341 0 \nL 2766 0 \nL 2766 531 \nQ 2569 213 2275 61 \nQ 1981 -91 1556 -91 \nQ 1019 -91 701 211 \nQ 384 513 384 1019 \nQ 384 1609 779 1909 \nQ 1175 2209 1959 2209 \nL 2766 2209 \nL 2766 2266 \nQ 2766 2663 2505 2880 \nQ 2244 3097 1772 3097 \nQ 1472 3097 1187 3025 \nQ 903 2953 641 2809 \nL 641 3341 \nQ 956 3463 1253 3523 \nQ 1550 3584 1831 3584 \nQ 2591 3584 2966 3190 \nQ 3341 2797 3341 1997 \nz\n\" transform=\"scale(0.015625)\"/>\n        <path id=\"DejaVuSans-74\" d=\"M 1172 4494 \nL 1172 3500 \nL 2356 3500 \nL 2356 3053 \nL 1172 3053 \nL 1172 1153 \nQ 1172 725 1289 603 \nQ 1406 481 1766 481 \nL 2356 481 \nL 2356 0 \nL 1766 0 \nQ 1100 0 847 248 \nQ 594 497 594 1153 \nL 594 3053 \nL 172 3053 \nL 172 3500 \nL 594 3500 \nL 594 4494 \nL 1172 4494 \nz\n\" transform=\"scale(0.015625)\"/>\n       </defs>\n       <use xlink:href=\"#DejaVuSans-66\"/>\n       <use xlink:href=\"#DejaVuSans-61\" x=\"35.205078\"/>\n       <use xlink:href=\"#DejaVuSans-73\" x=\"96.484375\"/>\n       <use xlink:href=\"#DejaVuSans-74\" x=\"148.583984\"/>\n      </g>\n     </g>\n    </g>\n    <g id=\"xtick_19\">\n     <g id=\"line2d_25\">\n      <g>\n       <use xlink:href=\"#mef6b3b942c\" x=\"277.455897\" y=\"428.130224\" style=\"stroke: #000000; stroke-width: 0.8\"/>\n      </g>\n     </g>\n     <g id=\"text_15\">\n      <!-- clean -->\n      <g transform=\"translate(257.284413 446.52788)scale(0.15 -0.15)\">\n       <defs>\n        <path id=\"DejaVuSans-63\" d=\"M 3122 3366 \nL 3122 2828 \nQ 2878 2963 2633 3030 \nQ 2388 3097 2138 3097 \nQ 1578 3097 1268 2742 \nQ 959 2388 959 1747 \nQ 959 1106 1268 751 \nQ 1578 397 2138 397 \nQ 2388 397 2633 464 \nQ 2878 531 3122 666 \nL 3122 134 \nQ 2881 22 2623 -34 \nQ 2366 -91 2075 -91 \nQ 1284 -91 818 406 \nQ 353 903 353 1747 \nQ 353 2603 823 3093 \nQ 1294 3584 2113 3584 \nQ 2378 3584 2631 3529 \nQ 2884 3475 3122 3366 \nz\n\" transform=\"scale(0.015625)\"/>\n        <path id=\"DejaVuSans-65\" d=\"M 3597 1894 \nL 3597 1613 \nL 953 1613 \nQ 991 1019 1311 708 \nQ 1631 397 2203 397 \nQ 2534 397 2845 478 \nQ 3156 559 3463 722 \nL 3463 178 \nQ 3153 47 2828 -22 \nQ 2503 -91 2169 -91 \nQ 1331 -91 842 396 \nQ 353 884 353 1716 \nQ 353 2575 817 3079 \nQ 1281 3584 2069 3584 \nQ 2775 3584 3186 3129 \nQ 3597 2675 3597 1894 \nz\nM 3022 2063 \nQ 3016 2534 2758 2815 \nQ 2500 3097 2075 3097 \nQ 1594 3097 1305 2825 \nQ 1016 2553 972 2059 \nL 3022 2063 \nz\n\" transform=\"scale(0.015625)\"/>\n        <path id=\"DejaVuSans-6e\" d=\"M 3513 2113 \nL 3513 0 \nL 2938 0 \nL 2938 2094 \nQ 2938 2591 2744 2837 \nQ 2550 3084 2163 3084 \nQ 1697 3084 1428 2787 \nQ 1159 2491 1159 1978 \nL 1159 0 \nL 581 0 \nL 581 3500 \nL 1159 3500 \nL 1159 2956 \nQ 1366 3272 1645 3428 \nQ 1925 3584 2291 3584 \nQ 2894 3584 3203 3211 \nQ 3513 2838 3513 2113 \nz\n\" transform=\"scale(0.015625)\"/>\n       </defs>\n       <use xlink:href=\"#DejaVuSans-63\"/>\n       <use xlink:href=\"#DejaVuSans-6c\" x=\"54.980469\"/>\n       <use xlink:href=\"#DejaVuSans-65\" x=\"82.763672\"/>\n       <use xlink:href=\"#DejaVuSans-61\" x=\"144.287109\"/>\n       <use xlink:href=\"#DejaVuSans-6e\" x=\"205.566406\"/>\n      </g>\n     </g>\n    </g>\n    <g id=\"xtick_20\">\n     <g id=\"line2d_26\">\n      <g>\n       <use xlink:href=\"#mef6b3b942c\" x=\"354.095556\" y=\"428.130224\" style=\"stroke: #000000; stroke-width: 0.8\"/>\n      </g>\n     </g>\n     <g id=\"text_16\">\n      <!-- polluted -->\n      <g transform=\"translate(323.508446 446.52788)scale(0.15 -0.15)\">\n       <defs>\n        <path id=\"DejaVuSans-70\" d=\"M 1159 525 \nL 1159 -1331 \nL 581 -1331 \nL 581 3500 \nL 1159 3500 \nL 1159 2969 \nQ 1341 3281 1617 3432 \nQ 1894 3584 2278 3584 \nQ 2916 3584 3314 3078 \nQ 3713 2572 3713 1747 \nQ 3713 922 3314 415 \nQ 2916 -91 2278 -91 \nQ 1894 -91 1617 61 \nQ 1341 213 1159 525 \nz\nM 3116 1747 \nQ 3116 2381 2855 2742 \nQ 2594 3103 2138 3103 \nQ 1681 3103 1420 2742 \nQ 1159 2381 1159 1747 \nQ 1159 1113 1420 752 \nQ 1681 391 2138 391 \nQ 2594 391 2855 752 \nQ 3116 1113 3116 1747 \nz\n\" transform=\"scale(0.015625)\"/>\n        <path id=\"DejaVuSans-75\" d=\"M 544 1381 \nL 544 3500 \nL 1119 3500 \nL 1119 1403 \nQ 1119 906 1312 657 \nQ 1506 409 1894 409 \nQ 2359 409 2629 706 \nQ 2900 1003 2900 1516 \nL 2900 3500 \nL 3475 3500 \nL 3475 0 \nL 2900 0 \nL 2900 538 \nQ 2691 219 2414 64 \nQ 2138 -91 1772 -91 \nQ 1169 -91 856 284 \nQ 544 659 544 1381 \nz\nM 1991 3584 \nL 1991 3584 \nz\n\" transform=\"scale(0.015625)\"/>\n        <path id=\"DejaVuSans-64\" d=\"M 2906 2969 \nL 2906 4863 \nL 3481 4863 \nL 3481 0 \nL 2906 0 \nL 2906 525 \nQ 2725 213 2448 61 \nQ 2172 -91 1784 -91 \nQ 1150 -91 751 415 \nQ 353 922 353 1747 \nQ 353 2572 751 3078 \nQ 1150 3584 1784 3584 \nQ 2172 3584 2448 3432 \nQ 2725 3281 2906 2969 \nz\nM 947 1747 \nQ 947 1113 1208 752 \nQ 1469 391 1925 391 \nQ 2381 391 2643 752 \nQ 2906 1113 2906 1747 \nQ 2906 2381 2643 2742 \nQ 2381 3103 1925 3103 \nQ 1469 3103 1208 2742 \nQ 947 2381 947 1747 \nz\n\" transform=\"scale(0.015625)\"/>\n       </defs>\n       <use xlink:href=\"#DejaVuSans-70\"/>\n       <use xlink:href=\"#DejaVuSans-6f\" x=\"63.476562\"/>\n       <use xlink:href=\"#DejaVuSans-6c\" x=\"124.658203\"/>\n       <use xlink:href=\"#DejaVuSans-6c\" x=\"152.441406\"/>\n       <use xlink:href=\"#DejaVuSans-75\" x=\"180.224609\"/>\n       <use xlink:href=\"#DejaVuSans-74\" x=\"243.603516\"/>\n       <use xlink:href=\"#DejaVuSans-65\" x=\"282.8125\"/>\n       <use xlink:href=\"#DejaVuSans-64\" x=\"344.335938\"/>\n      </g>\n     </g>\n    </g>\n    <g id=\"xtick_21\">\n     <g id=\"line2d_27\">\n      <g>\n       <use xlink:href=\"#mef6b3b942c\" x=\"430.735214\" y=\"428.130224\" style=\"stroke: #000000; stroke-width: 0.8\"/>\n      </g>\n     </g>\n     <g id=\"text_17\">\n      <!-- small -->\n      <g transform=\"translate(410.759433 446.52788)scale(0.15 -0.15)\">\n       <use xlink:href=\"#DejaVuSans-73\"/>\n       <use xlink:href=\"#DejaVuSans-6d\" x=\"52.099609\"/>\n       <use xlink:href=\"#DejaVuSans-61\" x=\"149.511719\"/>\n       <use xlink:href=\"#DejaVuSans-6c\" x=\"210.791016\"/>\n       <use xlink:href=\"#DejaVuSans-6c\" x=\"238.574219\"/>\n      </g>\n     </g>\n    </g>\n    <g id=\"xtick_22\">\n     <g id=\"line2d_28\">\n      <g>\n       <use xlink:href=\"#mef6b3b942c\" x=\"507.374873\" y=\"428.130224\" style=\"stroke: #000000; stroke-width: 0.8\"/>\n      </g>\n     </g>\n     <g id=\"text_18\">\n      <!-- large -->\n      <g transform=\"translate(488.36706 446.52788)scale(0.15 -0.15)\">\n       <defs>\n        <path id=\"DejaVuSans-72\" d=\"M 2631 2963 \nQ 2534 3019 2420 3045 \nQ 2306 3072 2169 3072 \nQ 1681 3072 1420 2755 \nQ 1159 2438 1159 1844 \nL 1159 0 \nL 581 0 \nL 581 3500 \nL 1159 3500 \nL 1159 2956 \nQ 1341 3275 1631 3429 \nQ 1922 3584 2338 3584 \nQ 2397 3584 2469 3576 \nQ 2541 3569 2628 3553 \nL 2631 2963 \nz\n\" transform=\"scale(0.015625)\"/>\n       </defs>\n       <use xlink:href=\"#DejaVuSans-6c\"/>\n       <use xlink:href=\"#DejaVuSans-61\" x=\"27.783203\"/>\n       <use xlink:href=\"#DejaVuSans-72\" x=\"89.0625\"/>\n       <use xlink:href=\"#DejaVuSans-67\" x=\"128.425781\"/>\n       <use xlink:href=\"#DejaVuSans-65\" x=\"191.902344\"/>\n      </g>\n     </g>\n    </g>\n    <g id=\"xtick_23\">\n     <g id=\"line2d_29\">\n      <g>\n       <use xlink:href=\"#mef6b3b942c\" x=\"584.014531\" y=\"428.130224\" style=\"stroke: #000000; stroke-width: 0.8\"/>\n      </g>\n     </g>\n     <g id=\"text_19\">\n      <!-- poor -->\n      <g transform=\"translate(566.991875 446.52788)scale(0.15 -0.15)\">\n       <use xlink:href=\"#DejaVuSans-70\"/>\n       <use xlink:href=\"#DejaVuSans-6f\" x=\"63.476562\"/>\n       <use xlink:href=\"#DejaVuSans-6f\" x=\"124.658203\"/>\n       <use xlink:href=\"#DejaVuSans-72\" x=\"185.839844\"/>\n      </g>\n     </g>\n    </g>\n    <g id=\"xtick_24\">\n     <g id=\"line2d_30\">\n      <g>\n       <use xlink:href=\"#mef6b3b942c\" x=\"660.65419\" y=\"428.130224\" style=\"stroke: #000000; stroke-width: 0.8\"/>\n      </g>\n     </g>\n     <g id=\"text_20\">\n      <!-- rich -->\n      <g transform=\"translate(646.61044 446.52788)scale(0.15 -0.15)\">\n       <defs>\n        <path id=\"DejaVuSans-69\" d=\"M 603 3500 \nL 1178 3500 \nL 1178 0 \nL 603 0 \nL 603 3500 \nz\nM 603 4863 \nL 1178 4863 \nL 1178 4134 \nL 603 4134 \nL 603 4863 \nz\n\" transform=\"scale(0.015625)\"/>\n        <path id=\"DejaVuSans-68\" d=\"M 3513 2113 \nL 3513 0 \nL 2938 0 \nL 2938 2094 \nQ 2938 2591 2744 2837 \nQ 2550 3084 2163 3084 \nQ 1697 3084 1428 2787 \nQ 1159 2491 1159 1978 \nL 1159 0 \nL 581 0 \nL 581 4863 \nL 1159 4863 \nL 1159 2956 \nQ 1366 3272 1645 3428 \nQ 1925 3584 2291 3584 \nQ 2894 3584 3203 3211 \nQ 3513 2838 3513 2113 \nz\n\" transform=\"scale(0.015625)\"/>\n       </defs>\n       <use xlink:href=\"#DejaVuSans-72\"/>\n       <use xlink:href=\"#DejaVuSans-69\" x=\"41.113281\"/>\n       <use xlink:href=\"#DejaVuSans-63\" x=\"68.896484\"/>\n       <use xlink:href=\"#DejaVuSans-68\" x=\"123.876953\"/>\n      </g>\n     </g>\n    </g>\n   </g>\n   <g id=\"matplotlib.axis_6\">\n    <g id=\"ytick_7\">\n     <g id=\"line2d_31\">\n      <g>\n       <use xlink:href=\"#m3da6172d20\" x=\"63.63125\" y=\"428.130224\" style=\"stroke: #000000; stroke-width: 0.8\"/>\n      </g>\n     </g>\n     <g id=\"text_21\">\n      <!-- 0 -->\n      <g transform=\"translate(47.0875 433.829052)scale(0.15 -0.15)\">\n       <use xlink:href=\"#DejaVuSans-30\"/>\n      </g>\n     </g>\n    </g>\n    <g id=\"ytick_8\">\n     <g id=\"line2d_32\">\n      <g>\n       <use xlink:href=\"#m3da6172d20\" x=\"63.63125\" y=\"365.763521\" style=\"stroke: #000000; stroke-width: 0.8\"/>\n      </g>\n     </g>\n     <g id=\"text_22\">\n      <!-- 200 -->\n      <g transform=\"translate(28 371.462349)scale(0.15 -0.15)\">\n       <use xlink:href=\"#DejaVuSans-32\"/>\n       <use xlink:href=\"#DejaVuSans-30\" x=\"63.623047\"/>\n       <use xlink:href=\"#DejaVuSans-30\" x=\"127.246094\"/>\n      </g>\n     </g>\n    </g>\n    <g id=\"ytick_9\">\n     <g id=\"line2d_33\">\n      <g>\n       <use xlink:href=\"#m3da6172d20\" x=\"63.63125\" y=\"303.396818\" style=\"stroke: #000000; stroke-width: 0.8\"/>\n      </g>\n     </g>\n     <g id=\"text_23\">\n      <!-- 400 -->\n      <g transform=\"translate(28 309.095646)scale(0.15 -0.15)\">\n       <use xlink:href=\"#DejaVuSans-34\"/>\n       <use xlink:href=\"#DejaVuSans-30\" x=\"63.623047\"/>\n       <use xlink:href=\"#DejaVuSans-30\" x=\"127.246094\"/>\n      </g>\n     </g>\n    </g>\n    <g id=\"text_24\">\n     <!-- $\\alpha$, albedo -->\n     <g transform=\"translate(20.880469 399.115673)rotate(-90)scale(0.15 -0.15)\">\n      <defs>\n       <path id=\"DejaVuSans-Oblique-3b1\" d=\"M 2619 1628 \nL 2622 2350 \nQ 2625 3088 2069 3091 \nQ 1653 3094 1394 2747 \nQ 1069 2319 959 1747 \nQ 825 1059 994 731 \nQ 1169 397 1547 397 \nQ 1966 397 2319 1063 \nL 2619 1628 \nz\nM 2166 3578 \nQ 3141 3594 3128 2584 \nQ 3128 2584 3616 3500 \nL 4128 3500 \nL 3119 1603 \nL 3109 919 \nQ 3109 766 3194 638 \nQ 3291 488 3391 488 \nL 3669 488 \nL 3575 0 \nL 3228 0 \nQ 2934 0 2722 263 \nQ 2622 394 2619 669 \nQ 2416 334 2066 50 \nQ 1900 -81 1453 -78 \nQ 722 -72 456 397 \nQ 184 884 353 1747 \nQ 534 2675 1009 3097 \nQ 1544 3569 2166 3578 \nz\n\" transform=\"scale(0.015625)\"/>\n       <path id=\"DejaVuSans-2c\" d=\"M 750 794 \nL 1409 794 \nL 1409 256 \nL 897 -744 \nL 494 -744 \nL 750 256 \nL 750 794 \nz\n\" transform=\"scale(0.015625)\"/>\n       <path id=\"DejaVuSans-62\" d=\"M 3116 1747 \nQ 3116 2381 2855 2742 \nQ 2594 3103 2138 3103 \nQ 1681 3103 1420 2742 \nQ 1159 2381 1159 1747 \nQ 1159 1113 1420 752 \nQ 1681 391 2138 391 \nQ 2594 391 2855 752 \nQ 3116 1113 3116 1747 \nz\nM 1159 2969 \nQ 1341 3281 1617 3432 \nQ 1894 3584 2278 3584 \nQ 2916 3584 3314 3078 \nQ 3713 2572 3713 1747 \nQ 3713 922 3314 415 \nQ 2916 -91 2278 -91 \nQ 1894 -91 1617 61 \nQ 1341 213 1159 525 \nL 1159 0 \nL 581 0 \nL 581 4863 \nL 1159 4863 \nL 1159 2969 \nz\n\" transform=\"scale(0.015625)\"/>\n      </defs>\n      <use xlink:href=\"#DejaVuSans-Oblique-3b1\" transform=\"translate(0 0.015625)\"/>\n      <use xlink:href=\"#DejaVuSans-2c\" transform=\"translate(65.917969 0.015625)\"/>\n      <use xlink:href=\"#DejaVuSans-20\" transform=\"translate(97.705078 0.015625)\"/>\n      <use xlink:href=\"#DejaVuSans-61\" transform=\"translate(129.492188 0.015625)\"/>\n      <use xlink:href=\"#DejaVuSans-6c\" transform=\"translate(190.771484 0.015625)\"/>\n      <use xlink:href=\"#DejaVuSans-62\" transform=\"translate(218.554688 0.015625)\"/>\n      <use xlink:href=\"#DejaVuSans-65\" transform=\"translate(282.03125 0.015625)\"/>\n      <use xlink:href=\"#DejaVuSans-64\" transform=\"translate(343.554688 0.015625)\"/>\n      <use xlink:href=\"#DejaVuSans-6f\" transform=\"translate(407.03125 0.015625)\"/>\n     </g>\n    </g>\n   </g>\n   <g id=\"patch_114\">\n    <path d=\"M 63.63125 428.130224 \nL 63.63125 299.751123 \n\" style=\"fill: none; stroke: #000000; stroke-width: 0.8; stroke-linejoin: miter; stroke-linecap: square\"/>\n   </g>\n   <g id=\"patch_115\">\n    <path d=\"M 721.19952 428.130224 \nL 721.19952 299.751123 \n\" style=\"fill: none; stroke: #000000; stroke-width: 0.8; stroke-linejoin: miter; stroke-linecap: square\"/>\n   </g>\n   <g id=\"patch_116\">\n    <path d=\"M 63.63125 428.130224 \nL 721.19952 428.130224 \n\" style=\"fill: none; stroke: #000000; stroke-width: 0.8; stroke-linejoin: miter; stroke-linecap: square\"/>\n   </g>\n   <g id=\"patch_117\">\n    <path d=\"M 63.63125 299.751123 \nL 721.19952 299.751123 \n\" style=\"fill: none; stroke: #000000; stroke-width: 0.8; stroke-linejoin: miter; stroke-linecap: square\"/>\n   </g>\n   <g id=\"patch_118\">\n    <path d=\"M 162.266491 487.608836 \nQ 162.266491 478.125759 162.266491 468.642682 \n\" style=\"fill: none; stroke: #000000; stroke-width: 2; stroke-linecap: round\"/>\n    <path d=\"M 211.266491 464.442682 \nL 211.266491 468.642682 \nL 113.266491 468.642682 \nL 113.266491 464.442682 \n\" style=\"fill: none; stroke: #000000; stroke-width: 2; stroke-linecap: round\"/>\n   </g>\n   <g id=\"text_25\">\n    <!-- $w$ -->\n    <g transform=\"translate(156.52649 502.246123)scale(0.14 -0.14)\">\n     <defs>\n      <path id=\"DejaVuSans-Oblique-77\" d=\"M 544 3500 \nL 1113 3500 \nL 1259 684 \nL 2566 3500 \nL 3231 3500 \nL 3425 684 \nL 4666 3500 \nL 5241 3500 \nL 3641 0 \nL 2969 0 \nL 2797 2900 \nL 1459 0 \nL 781 0 \nL 544 3500 \nz\n\" transform=\"scale(0.015625)\"/>\n     </defs>\n     <use xlink:href=\"#DejaVuSans-Oblique-77\" transform=\"translate(0 0.3125)\"/>\n    </g>\n   </g>\n   <g id=\"patch_119\">\n    <path d=\"M 316.795034 487.608836 \nQ 316.795034 478.125759 316.795034 468.642682 \n\" style=\"fill: none; stroke: #000000; stroke-width: 2; stroke-linecap: round\"/>\n    <path d=\"M 365.795034 464.442682 \nL 365.795034 468.642682 \nL 267.795034 468.642682 \nL 267.795034 464.442682 \n\" style=\"fill: none; stroke: #000000; stroke-width: 2; stroke-linecap: round\"/>\n   </g>\n   <g id=\"text_26\">\n    <!-- $N_a$ -->\n    <g transform=\"translate(308.325034 502.246123)scale(0.14 -0.14)\">\n     <defs>\n      <path id=\"DejaVuSans-Oblique-4e\" d=\"M 1081 4666 \nL 1931 4666 \nL 3219 666 \nL 4000 4666 \nL 4616 4666 \nL 3706 0 \nL 2853 0 \nL 1569 4025 \nL 788 0 \nL 172 0 \nL 1081 4666 \nz\n\" transform=\"scale(0.015625)\"/>\n      <path id=\"DejaVuSans-Oblique-61\" d=\"M 3438 1997 \nL 3047 0 \nL 2472 0 \nL 2578 531 \nQ 2325 219 2001 64 \nQ 1678 -91 1281 -91 \nQ 834 -91 548 182 \nQ 263 456 263 884 \nQ 263 1497 752 1853 \nQ 1241 2209 2100 2209 \nL 2900 2209 \nL 2931 2363 \nQ 2938 2388 2941 2417 \nQ 2944 2447 2944 2509 \nQ 2944 2788 2717 2942 \nQ 2491 3097 2081 3097 \nQ 1800 3097 1504 3025 \nQ 1209 2953 897 2809 \nL 997 3341 \nQ 1322 3463 1633 3523 \nQ 1944 3584 2234 3584 \nQ 2853 3584 3176 3315 \nQ 3500 3047 3500 2534 \nQ 3500 2431 3484 2292 \nQ 3469 2153 3438 1997 \nz\nM 2816 1759 \nL 2241 1759 \nQ 1534 1759 1195 1570 \nQ 856 1381 856 984 \nQ 856 709 1029 553 \nQ 1203 397 1509 397 \nQ 1978 397 2328 733 \nQ 2678 1069 2791 1631 \nL 2816 1759 \nz\n\" transform=\"scale(0.015625)\"/>\n     </defs>\n     <use xlink:href=\"#DejaVuSans-Oblique-4e\" transform=\"translate(0 0.09375)\"/>\n     <use xlink:href=\"#DejaVuSans-Oblique-61\" transform=\"translate(74.804688 -16.3125)scale(0.7)\"/>\n    </g>\n   </g>\n   <g id=\"patch_120\">\n    <path d=\"M 471.323577 487.608836 \nQ 471.323577 478.125759 471.323577 468.642682 \n\" style=\"fill: none; stroke: #000000; stroke-width: 2; stroke-linecap: round\"/>\n    <path d=\"M 520.323577 464.442682 \nL 520.323577 468.642682 \nL 422.323577 468.642682 \nL 422.323577 464.442682 \n\" style=\"fill: none; stroke: #000000; stroke-width: 2; stroke-linecap: round\"/>\n   </g>\n   <g id=\"text_27\">\n    <!-- $r_a$ -->\n    <g transform=\"translate(465.233577 502.246123)scale(0.14 -0.14)\">\n     <use xlink:href=\"#DejaVuSans-Oblique-72\"/>\n     <use xlink:href=\"#DejaVuSans-Oblique-61\" transform=\"translate(41.113281 -16.40625)scale(0.7)\"/>\n    </g>\n   </g>\n   <g id=\"patch_121\">\n    <path d=\"M 622.564279 486.599139 \nQ 622.564279 477.622717 622.564279 468.646294 \n\" style=\"fill: none; stroke: #000000; stroke-width: 2; stroke-linecap: round\"/>\n    <path d=\"M 671.564279 464.446294 \nL 671.564279 468.646294 \nL 573.564279 468.646294 \nL 573.564279 464.446294 \n\" style=\"fill: none; stroke: #000000; stroke-width: 2; stroke-linecap: round\"/>\n   </g>\n   <g id=\"text_28\">\n    <!-- $F_{org}$ -->\n    <g transform=\"translate(610.17428 500.817685)scale(0.14 -0.14)\">\n     <defs>\n      <path id=\"DejaVuSans-Oblique-46\" d=\"M 1081 4666 \nL 3756 4666 \nL 3653 4134 \nL 1606 4134 \nL 1338 2759 \nL 3188 2759 \nL 3084 2228 \nL 1234 2228 \nL 800 0 \nL 172 0 \nL 1081 4666 \nz\n\" transform=\"scale(0.015625)\"/>\n      <path id=\"DejaVuSans-Oblique-6f\" d=\"M 1625 -91 \nQ 1009 -91 651 289 \nQ 294 669 294 1325 \nQ 294 1706 417 2101 \nQ 541 2497 738 2766 \nQ 1047 3184 1428 3384 \nQ 1809 3584 2291 3584 \nQ 2888 3584 3255 3212 \nQ 3622 2841 3622 2241 \nQ 3622 1825 3500 1412 \nQ 3378 1000 3181 728 \nQ 2875 309 2494 109 \nQ 2113 -91 1625 -91 \nz\nM 891 1344 \nQ 891 869 1089 633 \nQ 1288 397 1691 397 \nQ 2269 397 2648 901 \nQ 3028 1406 3028 2181 \nQ 3028 2634 2825 2865 \nQ 2622 3097 2228 3097 \nQ 1903 3097 1650 2945 \nQ 1397 2794 1197 2484 \nQ 1050 2253 970 1956 \nQ 891 1659 891 1344 \nz\n\" transform=\"scale(0.015625)\"/>\n      <path id=\"DejaVuSans-Oblique-67\" d=\"M 3816 3500 \nL 3219 434 \nQ 3047 -456 2561 -893 \nQ 2075 -1331 1253 -1331 \nQ 950 -1331 690 -1286 \nQ 431 -1241 206 -1147 \nL 313 -588 \nQ 525 -725 762 -790 \nQ 1000 -856 1269 -856 \nQ 1816 -856 2167 -557 \nQ 2519 -259 2631 300 \nL 2681 563 \nQ 2441 288 2122 144 \nQ 1803 0 1434 0 \nQ 903 0 598 351 \nQ 294 703 294 1319 \nQ 294 1803 478 2267 \nQ 663 2731 997 3091 \nQ 1219 3328 1514 3456 \nQ 1809 3584 2131 3584 \nQ 2484 3584 2746 3420 \nQ 3009 3256 3138 2956 \nL 3238 3500 \nL 3816 3500 \nz\nM 2950 2216 \nQ 2950 2641 2750 2872 \nQ 2550 3103 2181 3103 \nQ 1953 3103 1747 3012 \nQ 1541 2922 1394 2759 \nQ 1156 2491 1023 2127 \nQ 891 1763 891 1375 \nQ 891 944 1092 712 \nQ 1294 481 1672 481 \nQ 2219 481 2584 976 \nQ 2950 1472 2950 2216 \nz\n\" transform=\"scale(0.015625)\"/>\n     </defs>\n     <use xlink:href=\"#DejaVuSans-Oblique-46\" transform=\"translate(0 0.09375)\"/>\n     <use xlink:href=\"#DejaVuSans-Oblique-6f\" transform=\"translate(57.519531 -16.3125)scale(0.7)\"/>\n     <use xlink:href=\"#DejaVuSans-Oblique-72\" transform=\"translate(100.34668 -16.3125)scale(0.7)\"/>\n     <use xlink:href=\"#DejaVuSans-Oblique-67\" transform=\"translate(129.125977 -16.3125)scale(0.7)\"/>\n    </g>\n   </g>\n  </g>\n </g>\n <defs>\n  <clipPath id=\"pc5d88a9aad\">\n   <rect x=\"63.63125\" y=\"9.253132\" width=\"657.56827\" height=\"128.379102\"/>\n  </clipPath>\n  <clipPath id=\"p72a77fcf17\">\n   <rect x=\"63.63125\" y=\"154.502128\" width=\"657.56827\" height=\"128.379102\"/>\n  </clipPath>\n  <clipPath id=\"p116ae5865d\">\n   <rect x=\"63.63125\" y=\"299.751123\" width=\"657.56827\" height=\"128.379102\"/>\n  </clipPath>\n </defs>\n</svg>\n",
      "text/plain": [
       "<Figure size 720x504 with 3 Axes>"
      ]
     },
     "metadata": {
      "needs_background": "light"
     },
     "output_type": "display_data"
    },
    {
     "data": {
      "application/vnd.jupyter.widget-view+json": {
       "model_id": "3f5f080dfeab4cc2847bd35ceea93f3c",
       "version_major": 2,
       "version_minor": 0
      },
      "text/plain": [
       "HTML(value=\"<a href='./fig7.pdf' target='_blank'>./fig7.pdf</a><br>\")"
      ]
     },
     "metadata": {},
     "output_type": "display_data"
    }
   ],
   "source": [
    "fig, axes = pyplot.subplots(3, 1, figsize=(10, 7), sharex=True, constrained_layout=True)\n",
    "pyplot.rcParams.update({\"font.size\":15})\n",
    "\n",
    "bar_width = 0.1\n",
    "# vars = (\"lwp\", \"reff\", \"albedo\")\n",
    "labels = (\"LWP [g m$^{-2}$]\", \"$r_{eff}$ [$\\mu$m]\", \"$\\\\alpha$, albedo\")\n",
    "\n",
    "vars = (\"CDNC\", \"CDNC\", \"CDNC\")\n",
    "\n",
    "x_cond = {\"slow\":0, \"fast\":1, \"clean\":2, \"polluted\":3, \"small\":4, \"large\":5, \"poor\":6, \"rich\":7}\n",
    "x_model = {'Constant':0, 'CompressedFilmOvadnevaite':1, 'SzyszkowskiLangmuir':2, 'CompressedFilmRuehl':3}\n",
    "\n",
    "\n",
    "for i, ax in enumerate(axes):\n",
    "    for key, output_k in output.items():\n",
    "        cond, model = key.split(\"_\")\n",
    "\n",
    "        cloud_top_index = -1\n",
    "        x = x_cond[cond]*5*bar_width + x_model[model]*bar_width + bar_width/2\n",
    "\n",
    "        if cond == \"slow\":\n",
    "            ax.bar(x, output_k[vars[i]][cloud_top_index], color=plot_colors[model], width=bar_width, label=plot_names[model])\n",
    "        else:\n",
    "            ax.bar(x, output_k[vars[i]][cloud_top_index], color=plot_colors[model], width=bar_width)\n",
    "\n",
    "        ax.set_xticks([x_cond[cond]*5*bar_width + 2*bar_width for cond in conditions])\n",
    "        ax.set_xticklabels(conditions)\n",
    "\n",
    "    ax.set_ylabel(labels[i])\n",
    "    if i == 0:\n",
    "        ax.legend(fontsize=10)\n",
    "\n",
    "    yoffset = -0.3\n",
    "    if i == 2:\n",
    "        ax.annotate('$w$', xy=(0.3*5*bar_width, yoffset), xytext=(0.3*5*bar_width, 2*yoffset),\n",
    "            fontsize=14, ha='center', va='bottom', xycoords='axes fraction', \n",
    "            arrowprops=dict(arrowstyle='-[, widthB=3.5, lengthB=.3', lw=2.0))\n",
    "\n",
    "        ax.annotate('$N_a$', xy=(0.77*5*bar_width, yoffset), xytext=(0.77*5*bar_width, 2*yoffset),\n",
    "            fontsize=14, ha='center', va='bottom', xycoords='axes fraction', \n",
    "            arrowprops=dict(arrowstyle='-[, widthB=3.5, lengthB=.3', lw=2.0))\n",
    "\n",
    "        ax.annotate('$r_a$', xy=(1.24*5*bar_width, yoffset), xytext=(1.24*5*bar_width, 2*yoffset),\n",
    "            fontsize=14, ha='center', va='bottom', xycoords='axes fraction', \n",
    "            arrowprops=dict(arrowstyle='-[, widthB=3.5, lengthB=.3', lw=2.0))\n",
    "\n",
    "        ax.annotate('$F_{org}$', xy=(1.7*5*bar_width, yoffset), xytext=(1.7*5*bar_width, 2*yoffset),\n",
    "            fontsize=14, ha='center', va='bottom', xycoords='axes fraction', \n",
    "            arrowprops=dict(arrowstyle='-[, widthB=3.5, lengthB=.3', lw=2.0))\n",
    "\n",
    "show_plot(\"fig7.pdf\")"
   ]
  },
  {
   "cell_type": "code",
   "execution_count": null,
   "metadata": {},
   "outputs": [],
   "source": []
  }
 ],
 "metadata": {
  "kernelspec": {
   "display_name": "Python 3.10.9 ('pysdm')",
   "language": "python",
   "name": "python3"
  },
  "language_info": {
   "codemirror_mode": {
    "name": "ipython",
    "version": 3
   },
   "file_extension": ".py",
   "mimetype": "text/x-python",
   "name": "python",
   "nbconvert_exporter": "python",
   "pygments_lexer": "ipython3",
   "version": "3.10.9"
  },
  "orig_nbformat": 4,
  "vscode": {
   "interpreter": {
    "hash": "b14f34a08619f4a218d80d7380beed3f0c712c89ff93e7183219752d640ed427"
   }
  }
 },
 "nbformat": 4,
 "nbformat_minor": 2
}
