{
 "cells": [
  {
   "cell_type": "code",
   "execution_count": 3,
   "metadata": {},
   "outputs": [
    {
     "name": "stdout",
     "output_type": "stream",
     "text": [
      "[19.36378234  0.60653066]\n",
      "[-1.0, -0.5]\n"
     ]
    }
   ],
   "source": [
    "from PySDM_examples.Singer_Ward.mcmc_generic import mcmc_generic\n",
    "mcmc_generic(filename=\"bcary_dark.csv\", model=\"CompressedFilmOvadnevaite\", n_steps=5000)\n",
    "\n",
    "# import os\n",
    "# os.environ[\"NUMBA_DISABLE_JIT\"] = \"1\"\n",
    "\n",
    "# N = 500\n",
    "# mcmc_generic(filename=\"bcary_dark.csv\", model=\"CompressedFilmOvadnevaite\", n_steps=N*2, plot=True)\n",
    "# mcmc_generic(filename=\"bcary_dark.csv\", model=\"SzyszkowskiLangmuir\", n_steps=N*3, plot=True)\n",
    "# mcmc_generic(filename=\"bcary_dark.csv\", model=\"CompressedFilmRuehl\", n_steps=N*4, plot=True)"
   ]
  },
  {
   "cell_type": "code",
   "execution_count": null,
   "metadata": {},
   "outputs": [],
   "source": []
  }
 ],
 "metadata": {
  "kernelspec": {
   "display_name": "Python 3.7.12 ('pysdm')",
   "language": "python",
   "name": "python3"
  },
  "language_info": {
   "codemirror_mode": {
    "name": "ipython",
    "version": 3
   },
   "file_extension": ".py",
   "mimetype": "text/x-python",
   "name": "python",
   "nbconvert_exporter": "python",
   "pygments_lexer": "ipython3",
   "version": "3.10.9"
  },
  "orig_nbformat": 4,
  "vscode": {
   "interpreter": {
    "hash": "b14f34a08619f4a218d80d7380beed3f0c712c89ff93e7183219752d640ed427"
   }
  }
 },
 "nbformat": 4,
 "nbformat_minor": 2
}
