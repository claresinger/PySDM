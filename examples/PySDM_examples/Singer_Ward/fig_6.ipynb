{
 "cells": [
  {
   "cell_type": "markdown",
   "metadata": {},
   "source": [
    "## Figure 6\n",
    "Results from a parcel simulation with Na = 100 cm-3, Forg = 0.5, and w = 5 mm/s.\n",
    "Difference in CDNC profiles between the different surface-partitioning models and constant surface tension.\n",
    "Solid lines show best fit parameter values, while shading indicates the variability from changing the parameter values within 1std.\n",
    "\n",
    "Comparing the structural vs. parametric uncertainty. Are shadings wider than difference between curves?"
   ]
  },
  {
   "cell_type": "code",
   "execution_count": null,
   "metadata": {},
   "outputs": [],
   "source": []
  }
 ],
 "metadata": {
  "kernelspec": {
   "display_name": "Python 3.10.9 ('pysdm')",
   "language": "python",
   "name": "python3"
  },
  "language_info": {
   "name": "python",
   "version": "3.10.9"
  },
  "orig_nbformat": 4,
  "vscode": {
   "interpreter": {
    "hash": "b14f34a08619f4a218d80d7380beed3f0c712c89ff93e7183219752d640ed427"
   }
  }
 },
 "nbformat": 4,
 "nbformat_minor": 2
}
