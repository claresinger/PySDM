{
 "cells": [
  {
   "cell_type": "markdown",
   "metadata": {},
   "source": [
    "#### Example of using different surface tension models and the resulting Köhler curves\n",
    "Parameters for surface tension models (and aerosol physiochemical description) loosely based on laboratory experiments by RXW, described in Ward et al., in prep. (2022)"
   ]
  },
  {
   "cell_type": "code",
   "execution_count": 1,
   "metadata": {},
   "outputs": [],
   "source": [
    "import sys\n",
    "if 'google.colab' in sys.modules:\n",
    "    !pip --quiet install \"open_atmos_jupyter_utils\"\n",
    "    from open_atmos_jupyter_utils import pip_install_on_colab\n",
    "    pip_install_on_colab('PySDM-examples')"
   ]
  },
  {
   "cell_type": "code",
   "execution_count": 2,
   "metadata": {
    "pycharm": {
     "name": "#%%\n"
    }
   },
   "outputs": [],
   "source": [
    "from matplotlib import pyplot\n",
    "import numpy as np\n",
    "\n",
    "from PySDM import Formulae\n",
    "from PySDM.physics import si\n",
    "\n",
    "from open_atmos_jupyter_utils import show_plot\n",
    "\n",
    "from PySDM_examples.Singer_Ward.aerosol import AerosolBetaCaryophylleneDark"
   ]
  },
  {
   "cell_type": "code",
   "execution_count": 3,
   "metadata": {},
   "outputs": [],
   "source": [
    "# aerosol creation\n",
    "aerosol = AerosolBetaCaryophylleneDark(Forg=0.5)\n",
    "\n",
    "# formulae creation\n",
    "formulae_bulk = Formulae(surface_tension='Constant')\n",
    "formulae_ovad = Formulae(\n",
    "    surface_tension='CompressedFilmOvadnevaite',\n",
    "    constants={\n",
    "        'sgm_org': 19 * si.mN / si.m, #35\n",
    "        'delta_min': 0.4 * si.nm #1.75\n",
    "    }\n",
    ")\n",
    "formulae_sl = Formulae(\n",
    "    surface_tension='SzyszkowskiLangmuir',\n",
    "    constants={\n",
    "        'RUEHL_nu_org': aerosol.modes[0]['nu_org'],\n",
    "        'RUEHL_A0': 7.5e-19 * si.m * si.m, #115e-20\n",
    "        'RUEHL_C0': 5e-7, #6e-7\n",
    "        'RUEHL_sgm_min': 21 * si.mN / si.m #35\n",
    "    }\n",
    ")\n",
    "formulae_ruehl = Formulae(\n",
    "    surface_tension='CompressedFilmRuehl',\n",
    "    constants={\n",
    "        'RUEHL_nu_org': aerosol.modes[0]['nu_org'],\n",
    "        'RUEHL_A0': 9.4e-19 * si.m * si.m, #115e-20\n",
    "        'RUEHL_C0': 10e-7, #6e-7\n",
    "        'RUEHL_sgm_min': 24 * si.mN / si.m, #35\n",
    "        'RUEHL_m_sigma': 1.8e17 * si.J / si.m**2, #0.3e17\n",
    "    }\n",
    ")\n",
    "\n",
    "# aerosol and thermodynamic conditions\n",
    "T = 300 * si.K\n",
    "r_dry = 50 * si.nm\n",
    "v_dry = formulae_ovad.trivia.volume(r_dry)\n",
    "\n",
    "# plotting info\n",
    "r_wet = np.logspace(np.log(50 * si.nm), np.log(2000 * si.nm), base=np.e, num=100)\n",
    "v_wet = formulae_ovad.trivia.volume(r_wet)\n",
    "r_wet_ticks_nm = (100, 200, 300, 500, 1000, 2000)\n",
    "lines = {'Constant': '-', 'CompressedFilmOvadnevaite': '--', \n",
    "    'SzyszkowskiLangmuir': '-.', 'CompressedFilmRuehl': ':'}\n",
    "colors = {'Constant': 'k', 'CompressedFilmOvadnevaite': 'C0', \n",
    "    'SzyszkowskiLangmuir': 'C2', 'CompressedFilmRuehl': 'C1'}"
   ]
  },
  {
   "cell_type": "code",
   "execution_count": 4,
   "metadata": {},
   "outputs": [
    {
     "name": "stdout",
     "output_type": "stream",
     "text": [
      "Constant\n",
      "CompressedFilmOvadnevaite\n",
      "SzyszkowskiLangmuir\n"
     ]
    },
    {
     "ename": "UFuncTypeError",
     "evalue": "ufunc 'sigma' did not contain a loop with signature matching types (<class 'numpy.dtype[float64]'>, <class 'numpy.dtype[float64]'>, <class 'numpy.dtype[float64]'>, <class 'numpy.dtype[float64]'>) -> None",
     "output_type": "error",
     "traceback": [
      "\u001b[0;31m---------------------------------------------------------------------------\u001b[0m",
      "\u001b[0;31mUFuncTypeError\u001b[0m                            Traceback (most recent call last)",
      "\u001b[0;32m/var/folders/j_/wj_gdgdx2jdbw7vwy0bnq5hm0000gn/T/ipykernel_83346/3080782018.py\u001b[0m in \u001b[0;36m<module>\u001b[0;34m\u001b[0m\n\u001b[1;32m      7\u001b[0m     \u001b[0;32mif\u001b[0m \u001b[0mmodel\u001b[0m \u001b[0;32min\u001b[0m \u001b[0;34m(\u001b[0m\u001b[0;34m\"CompressedFilmRuehl\"\u001b[0m\u001b[0;34m,\u001b[0m \u001b[0;34m\"SzyszkowskiLangmuir\"\u001b[0m\u001b[0;34m)\u001b[0m\u001b[0;34m:\u001b[0m\u001b[0;34m\u001b[0m\u001b[0;34m\u001b[0m\u001b[0m\n\u001b[1;32m      8\u001b[0m         \u001b[0;32mfor\u001b[0m \u001b[0mj\u001b[0m\u001b[0;34m,\u001b[0m\u001b[0mvw\u001b[0m \u001b[0;32min\u001b[0m \u001b[0menumerate\u001b[0m\u001b[0;34m(\u001b[0m\u001b[0mv_wet\u001b[0m\u001b[0;34m)\u001b[0m\u001b[0;34m:\u001b[0m\u001b[0;34m\u001b[0m\u001b[0;34m\u001b[0m\u001b[0m\n\u001b[0;32m----> 9\u001b[0;31m             \u001b[0msigma\u001b[0m\u001b[0;34m[\u001b[0m\u001b[0mj\u001b[0m\u001b[0;34m]\u001b[0m \u001b[0;34m=\u001b[0m \u001b[0mformulae\u001b[0m\u001b[0;34m.\u001b[0m\u001b[0msurface_tension\u001b[0m\u001b[0;34m.\u001b[0m\u001b[0msigma\u001b[0m\u001b[0;34m(\u001b[0m\u001b[0mT\u001b[0m\u001b[0;34m,\u001b[0m \u001b[0mvw\u001b[0m\u001b[0;34m,\u001b[0m \u001b[0mv_dry\u001b[0m\u001b[0;34m,\u001b[0m \u001b[0maerosol\u001b[0m\u001b[0;34m.\u001b[0m\u001b[0mmodes\u001b[0m\u001b[0;34m[\u001b[0m\u001b[0;36m0\u001b[0m\u001b[0;34m]\u001b[0m\u001b[0;34m[\u001b[0m\u001b[0;34m'f_org'\u001b[0m\u001b[0;34m]\u001b[0m\u001b[0;34m)\u001b[0m\u001b[0;34m\u001b[0m\u001b[0;34m\u001b[0m\u001b[0m\n\u001b[0m\u001b[1;32m     10\u001b[0m     \u001b[0;32melse\u001b[0m\u001b[0;34m:\u001b[0m\u001b[0;34m\u001b[0m\u001b[0;34m\u001b[0m\u001b[0m\n\u001b[1;32m     11\u001b[0m         \u001b[0msigma\u001b[0m \u001b[0;34m=\u001b[0m \u001b[0mformulae\u001b[0m\u001b[0;34m.\u001b[0m\u001b[0msurface_tension\u001b[0m\u001b[0;34m.\u001b[0m\u001b[0msigma\u001b[0m\u001b[0;34m(\u001b[0m\u001b[0mT\u001b[0m\u001b[0;34m,\u001b[0m \u001b[0mv_wet\u001b[0m\u001b[0;34m,\u001b[0m \u001b[0mv_dry\u001b[0m\u001b[0;34m,\u001b[0m \u001b[0maerosol\u001b[0m\u001b[0;34m.\u001b[0m\u001b[0mmodes\u001b[0m\u001b[0;34m[\u001b[0m\u001b[0;36m0\u001b[0m\u001b[0;34m]\u001b[0m\u001b[0;34m[\u001b[0m\u001b[0;34m'f_org'\u001b[0m\u001b[0;34m]\u001b[0m\u001b[0;34m)\u001b[0m\u001b[0;34m\u001b[0m\u001b[0;34m\u001b[0m\u001b[0m\n",
      "\u001b[0;31mUFuncTypeError\u001b[0m: ufunc 'sigma' did not contain a loop with signature matching types (<class 'numpy.dtype[float64]'>, <class 'numpy.dtype[float64]'>, <class 'numpy.dtype[float64]'>, <class 'numpy.dtype[float64]'>) -> None"
     ]
    },
    {
     "data": {
      "image/png": "[encoded data removed]",
      "text/plain": [
       "<Figure size 432x432 with 2 Axes>"
      ]
     },
     "metadata": {
      "needs_background": "light"
     },
     "output_type": "display_data"
    }
   ],
   "source": [
    "fig,axes = pyplot.subplots(2, 1, figsize=(6,6), sharex=True, sharey=False)\n",
    "\n",
    "for formulae in (formulae_bulk, formulae_ovad, formulae_sl, formulae_ruehl):\n",
    "    model = formulae.surface_tension.__name__\n",
    "    sigma = np.ones(len(v_wet))\n",
    "    print(model)\n",
    "    if model in (\"CompressedFilmRuehl\", \"SzyszkowskiLangmuir\"):\n",
    "        for j,vw in enumerate(v_wet):\n",
    "            sigma[j] = formulae.surface_tension.sigma(T, vw, v_dry, aerosol.modes[0]['f_org'])\n",
    "    else:\n",
    "        sigma = formulae.surface_tension.sigma(T, v_wet, v_dry, aerosol.modes[0]['f_org'])\n",
    "    RH_eq = formulae.hygroscopicity.RH_eq(r_wet, T, aerosol.modes[0]['kappa'][model], r_dry**3, sigma)\n",
    "\n",
    "    if not type(sigma) is type(v_wet):\n",
    "        sigma = np.ones(len(v_wet)) * sigma\n",
    "    # plot surface tension\n",
    "    axes[0].plot(\n",
    "        r_wet / si.nm,\n",
    "        sigma / (si.mN / si.m),\n",
    "        label=f\"{model}\", \n",
    "        color=colors[model],\n",
    "        linestyle=lines[model]\n",
    "    )\n",
    "    \n",
    "    # plot Köhler curve\n",
    "    axes[1].plot(\n",
    "        r_wet / si.nm, \n",
    "        (RH_eq - 1)*100, \n",
    "        color=colors[model], \n",
    "        linestyle=lines[model]\n",
    "    )\n",
    "\n",
    "# plot attributes\n",
    "for ax in axes:\n",
    "    ax.grid()\n",
    "    ax.set_xscale('log')\n",
    "    ax.set_xticks(r_wet_ticks_nm, r_wet_ticks_nm)\n",
    "    ax.set_xlim(r_wet[0] / si.nm, r_wet[-1] / si.nm)\n",
    "\n",
    "ax = axes[0]\n",
    "ax.set_ylabel('Surface tension [mN m$^{-1}$]')\n",
    "yticks = (10, 20, 30, 40, 50, 60, 70, 80)\n",
    "ax.set_yticks(yticks, yticks)\n",
    "ax.set_ylim(10, 80)\n",
    "ax.legend(title=\"Surface tension model\", fontsize=10, loc=4)\n",
    "\n",
    "ax = axes[1]\n",
    "ax.set_ylabel('Equilibrium supersaturation [%]')\n",
    "yticks = (-.2, -.1, 0, .1, .2, .3, .4)\n",
    "ax.set_yticks(yticks, yticks)\n",
    "ax.set_ylim(yticks[0], .45)\n",
    "ax.set_xlabel('Wet radius [nm]')\n",
    "ax.set_xlim(100,2000)\n",
    "\n",
    "show_plot(\"Singer_fig1.pdf\")"
   ]
  },
  {
   "cell_type": "code",
   "execution_count": null,
   "metadata": {},
   "outputs": [],
   "source": [
    "# lines = {'Constant': '-', 'CompressedFilmOvadnevaite': '--', 'CompressedFilmRuehl': ':', 'SzyszkowskiLangmuir': '-.'}\n",
    "# colors = {'Constant': 'k', 'CompressedFilmOvadnevaite': 'C0', 'CompressedFilmRuehl': 'C1', 'SzyszkowskiLangmuir': 'C2'}\n",
    "\n",
    "fig,ax = pyplot.subplots(1, 1, figsize=(6,3), sharex=True, sharey=False)\n",
    "\n",
    "for formulae in (formulae_bulk, formulae_ovad, formulae_ruehl, formulae_sl):\n",
    "    model = formulae.surface_tension.__name__\n",
    "    sigma = np.ones(len(v_wet))\n",
    "    if model in (\"CompressedFilmRuehl\", \"SzyszkowskiLangmuir\"):\n",
    "        for j,vw in enumerate(v_wet):\n",
    "            sigma[j] = formulae.surface_tension.sigma(T, vw, v_dry, aerosol.modes[0]['f_org'])\n",
    "    else:\n",
    "        sigma = formulae.surface_tension.sigma(T, v_wet, v_dry, aerosol.modes[0]['f_org'])\n",
    "    RH_eq = formulae.hygroscopicity.RH_eq(r_wet, T, aerosol.modes[0]['kappa'][model], r_dry**3, sigma)\n",
    "\n",
    "    if not type(sigma) is type(v_wet):\n",
    "        sigma = np.ones(len(v_wet)) * sigma\n",
    "    # plot Köhler curve\n",
    "    ax.plot(\n",
    "        r_wet / si.nm, \n",
    "        (RH_eq - 1)*100, \n",
    "        color=colors[model], \n",
    "        linestyle=lines[model]\n",
    "    )\n",
    "\n",
    "ax.set_ylabel('Equilibrium supersaturation [%]')\n",
    "yticks = (-.2, -.1, 0, .1, .2, .3, .4)\n",
    "ax.set_yticks(yticks, yticks)\n",
    "ax.set_ylim(yticks[0], .45)\n",
    "ax.set_xlabel('Wet radius [nm]')\n",
    "ax.set_xlim(100,2000)\n",
    "\n",
    "show_plot(\"Singer_fig1_kohler.pdf\")"
   ]
  },
  {
   "cell_type": "code",
   "execution_count": null,
   "metadata": {},
   "outputs": [],
   "source": [
    "fig,ax = pyplot.subplots(1, 1, figsize=(6,3), sharex=True, sharey=False)\n",
    "\n",
    "for formulae in (formulae_bulk, formulae_ovad, formulae_sl, formulae_ruehl):\n",
    "    model = formulae.surface_tension.__name__\n",
    "    sigma = formulae.surface_tension.sigma(T, v_wet, v_dry, aerosol.modes[0]['f_org'])\n",
    "    RH_eq = formulae.hygroscopicity.RH_eq(r_wet, T, aerosol.modes[0]['kappa'][model], r_dry**3, sigma)\n",
    "\n",
    "    if not type(sigma) is type(v_wet):\n",
    "        sigma = np.ones(len(v_wet)) * sigma\n",
    "    # plot surface tension\n",
    "    ax.plot(\n",
    "        r_wet / si.nm,\n",
    "        sigma / (si.mN / si.m),\n",
    "        label=f\"{model}\", \n",
    "        color=colors[model],\n",
    "        linestyle=lines[model]\n",
    "    )\n",
    "\n",
    "# plot attributes\n",
    "ax.grid()\n",
    "ax.set_xscale('log')\n",
    "ax.set_xticks(r_wet_ticks_nm, r_wet_ticks_nm)\n",
    "ax.set_xlim(r_wet[0] / si.nm, r_wet[-1] / si.nm)\n",
    "ax.set_ylabel('Surface tension [mN m$^{-1}$]')\n",
    "yticks = (20, 30, 40, 50, 60, 70, 80)\n",
    "ax.set_yticks(yticks, yticks)\n",
    "ax.set_ylim(15, 80)\n",
    "ax.set_xlim(100, 2000)\n",
    "ax.legend(title=\"Surface tension model\", fontsize=10, loc=4)\n",
    "ax.set_xlabel('Wet radius [nm]')\n",
    "\n",
    "show_plot(\"Singer_fig1_surfacetension.pdf\")"
   ]
  },
  {
   "cell_type": "code",
   "execution_count": null,
   "metadata": {},
   "outputs": [],
   "source": []
  }
 ],
 "metadata": {
  "kernelspec": {
   "display_name": "Python 3.7.12 ('pysdm')",
   "language": "python",
   "name": "python3"
  },
  "language_info": {
   "codemirror_mode": {
    "name": "ipython",
    "version": 3
   },
   "file_extension": ".py",
   "mimetype": "text/x-python",
   "name": "python",
   "nbconvert_exporter": "python",
   "pygments_lexer": "ipython3",
   "version": "3.10.9"
  },
  "vscode": {
   "interpreter": {
    "hash": "b14f34a08619f4a218d80d7380beed3f0c712c89ff93e7183219752d640ed427"
   }
  }
 },
 "nbformat": 4,
 "nbformat_minor": 4
}
