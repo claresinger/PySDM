{
 "cells": [
  {
   "cell_type": "markdown",
   "metadata": {},
   "source": [
    "## Figure 2\n",
    "Laboratory data used for calibration and best fit curves for each model of surface-partitioning by organics. RMSE shown in plot legend."
   ]
  },
  {
   "cell_type": "code",
   "execution_count": 1,
   "metadata": {},
   "outputs": [],
   "source": [
    "import numpy as np\n",
    "import os\n",
    "from matplotlib import pylab\n",
    "\n",
    "from PySDM.physics import si\n",
    "\n",
    "from PySDM_examples.Singer_Ward.kappa_mcmc import get_model, param_transform\n",
    "from PySDM_examples.Singer_Ward.aerosol import AerosolBetaCaryophylleneDark\n",
    "from PySDM_examples.Singer_Ward.mcmc_plots import plot_ovf_kappa_fit\n",
    "\n",
    "filename = \"bcary_dark.csv\"\n",
    "\n",
    "# model = \"CompressedFilmOvadnevaite\"\n",
    "# N = 1000\n",
    "model = \"SzyszkowskiLangmuir\"\n",
    "N = 1500\n",
    "# model = \"CompressedFilmRuehl\"\n",
    "# N = 5000\n",
    "\n",
    "######\n",
    "# open data file\n",
    "######\n",
    "ds = np.loadtxt(\"data/\" + filename, skiprows=1, delimiter=\",\")\n",
    "if filename == \"bcary_dark.csv\":\n",
    "    ds = np.delete(ds, [26, 65], axis=0)  # remove outliers\n",
    "r_dry = ds[:, 0] / 2 * 1e-9\n",
    "ovf = np.minimum(ds[:, 1], 0.99)\n",
    "d_ovf = ds[:, 2]\n",
    "kappa_eff = ds[:, 3]\n",
    "d_kappa_eff = ds[:, 4]\n",
    "T = 300 * si.K\n",
    "\n",
    "datay = kappa_eff\n",
    "errory = d_kappa_eff\n",
    "\n",
    "aerosol_list = [AerosolBetaCaryophylleneDark(ovfi) for ovfi in ovf]\n",
    "args = [T, r_dry, ovf, aerosol_list, model]\n",
    "\n",
    "modelname = model.split(\"CompressedFilm\")[-1]\n",
    "aerosolname = aerosol_list[0].__class__.__name__.split(\"Aerosol\")[-1]\n",
    "outputfile = \"mcmc_output/\" + aerosolname + \"_\" + modelname + \"_chain\" + str(N) + \".csv\"\n",
    "param_chain = np.loadtxt(outputfile, delimiter=\",\").T"
   ]
  },
  {
   "cell_type": "code",
   "execution_count": 2,
   "metadata": {},
   "outputs": [
    {
     "ename": "AttributeError",
     "evalue": "'Formulae' object has no attribute 'Rv'",
     "output_type": "error",
     "traceback": [
      "\u001b[0;31m---------------------------------------------------------------------------\u001b[0m",
      "\u001b[0;31mAttributeError\u001b[0m                            Traceback (most recent call last)",
      "\u001b[0;32m/var/folders/j_/wj_gdgdx2jdbw7vwy0bnq5hm0000gn/T/ipykernel_29232/2143762146.py\u001b[0m in \u001b[0;36m<module>\u001b[0;34m\u001b[0m\n\u001b[1;32m      7\u001b[0m \u001b[0;34m\u001b[0m\u001b[0m\n\u001b[1;32m      8\u001b[0m \u001b[0;31m# before\u001b[0m\u001b[0;34m\u001b[0m\u001b[0;34m\u001b[0m\u001b[0m\n\u001b[0;32m----> 9\u001b[0;31m \u001b[0mkap_eff\u001b[0m \u001b[0;34m=\u001b[0m \u001b[0mget_model\u001b[0m\u001b[0;34m(\u001b[0m\u001b[0mparam_chain\u001b[0m\u001b[0;34m[\u001b[0m\u001b[0;34m:\u001b[0m\u001b[0;34m,\u001b[0m \u001b[0;36m0\u001b[0m\u001b[0;34m]\u001b[0m\u001b[0;34m,\u001b[0m \u001b[0margs\u001b[0m\u001b[0;34m)\u001b[0m\u001b[0;34m\u001b[0m\u001b[0;34m\u001b[0m\u001b[0m\n\u001b[0m\u001b[1;32m     10\u001b[0m \u001b[0ms\u001b[0m \u001b[0;34m=\u001b[0m \u001b[0mnp\u001b[0m\u001b[0;34m.\u001b[0m\u001b[0margsort\u001b[0m\u001b[0;34m(\u001b[0m\u001b[0movf\u001b[0m\u001b[0;34m)\u001b[0m\u001b[0;34m\u001b[0m\u001b[0;34m\u001b[0m\u001b[0m\n\u001b[1;32m     11\u001b[0m \u001b[0mdat\u001b[0m\u001b[0;34m[\u001b[0m\u001b[0;34m:\u001b[0m\u001b[0;34m,\u001b[0m \u001b[0;36m0\u001b[0m\u001b[0;34m]\u001b[0m \u001b[0;34m=\u001b[0m \u001b[0movf\u001b[0m\u001b[0;34m[\u001b[0m\u001b[0ms\u001b[0m\u001b[0;34m]\u001b[0m\u001b[0;34m\u001b[0m\u001b[0;34m\u001b[0m\u001b[0m\n",
      "\u001b[0;32m~/Research/PySDM/examples/PySDM_examples/Singer_Ward/kappa_mcmc.py\u001b[0m in \u001b[0;36mget_model\u001b[0;34m(params, args)\u001b[0m\n\u001b[1;32m    108\u001b[0m \u001b[0;34m\u001b[0m\u001b[0m\n\u001b[1;32m    109\u001b[0m     kap_eff = (\n\u001b[0;32m--> 110\u001b[0;31m         \u001b[0;34m(\u001b[0m\u001b[0;36m2\u001b[0m \u001b[0;34m*\u001b[0m \u001b[0mrcrit\u001b[0m\u001b[0;34m**\u001b[0m\u001b[0;36m2\u001b[0m\u001b[0;34m)\u001b[0m \u001b[0;34m/\u001b[0m \u001b[0;34m(\u001b[0m\u001b[0;36m3\u001b[0m \u001b[0;34m*\u001b[0m \u001b[0mr_dry\u001b[0m\u001b[0;34m**\u001b[0m\u001b[0;36m3\u001b[0m \u001b[0;34m*\u001b[0m \u001b[0mformulae\u001b[0m\u001b[0;34m.\u001b[0m\u001b[0mRv\u001b[0m \u001b[0;34m*\u001b[0m \u001b[0mT\u001b[0m \u001b[0;34m*\u001b[0m \u001b[0mformulae\u001b[0m\u001b[0;34m.\u001b[0m\u001b[0mrho_w\u001b[0m\u001b[0;34m)\u001b[0m \u001b[0;34m*\u001b[0m \u001b[0mformulae\u001b[0m\u001b[0;34m.\u001b[0m\u001b[0msgm_w\u001b[0m\u001b[0;34m\u001b[0m\u001b[0;34m\u001b[0m\u001b[0m\n\u001b[0m\u001b[1;32m    111\u001b[0m     )\n\u001b[1;32m    112\u001b[0m \u001b[0;34m\u001b[0m\u001b[0m\n",
      "\u001b[0;31mAttributeError\u001b[0m: 'Formulae' object has no attribute 'Rv'"
     ]
    },
    {
     "data": {
      "text/plain": [
       "<Figure size 720x432 with 0 Axes>"
      ]
     },
     "metadata": {},
     "output_type": "display_data"
    }
   ],
   "source": [
    "_, _, ovf, c, model = args\n",
    "\n",
    "# create aerosol\n",
    "dat = np.zeros((len(ovf), 4))\n",
    "\n",
    "pylab.figure(figsize=(10, 6))\n",
    "\n",
    "# before\n",
    "kap_eff = get_model(param_chain[:, 0], args)\n",
    "s = np.argsort(ovf)\n",
    "dat[:, 0] = ovf[s]\n",
    "dat[:, 2] = kap_eff[s]\n",
    "pylab.plot(ovf[s], kap_eff[s], \"b:\", label=\"before\")\n",
    "\n",
    "# after\n",
    "kap_eff2 = get_model(param_chain[:, -1], args)\n",
    "dat[:, 3] = kap_eff2[s]\n",
    "pylab.plot(ovf[s], kap_eff2[s], \"r-\", label=\"after\")\n",
    "\n",
    "# data\n",
    "s = np.argsort(ovf)\n",
    "dat[:, 1] = datay[s]\n",
    "pylab.errorbar(ovf, datay, yerr=errory, xerr=d_ovf, fmt=\"ko\")\n",
    "\n",
    "pylab.legend()\n",
    "pylab.xlabel(\"Organic Volume Fraction\")\n",
    "pylab.ylabel(r\"$\\kappa_{eff}$\", fontsize=20)\n",
    "pylab.rcParams.update({\"font.size\": 15})\n",
    "pylab.grid()\n",
    "pylab.tight_layout()\n",
    "\n",
    "modelname = model.split(\"CompressedFilm\")[-1]\n",
    "aerosolname = c[0].__class__.__name__.split(\"Aerosol\")[-1]\n",
    "# pylab.savefig(\n",
    "#     \"mcmc_output/\" + aerosolname + \"_\" + modelname + \"_fit.png\",\n",
    "#     dpi=200,\n",
    "#     bbox_inches=\"tight\",\n",
    "#     facecolor=\"w\",\n",
    "# )\n",
    "pylab.show()"
   ]
  },
  {
   "cell_type": "code",
   "execution_count": null,
   "metadata": {},
   "outputs": [],
   "source": []
  }
 ],
 "metadata": {
  "kernelspec": {
   "display_name": "Python 3.10.9 ('pysdm')",
   "language": "python",
   "name": "python3"
  },
  "language_info": {
   "codemirror_mode": {
    "name": "ipython",
    "version": 3
   },
   "file_extension": ".py",
   "mimetype": "text/x-python",
   "name": "python",
   "nbconvert_exporter": "python",
   "pygments_lexer": "ipython3",
   "version": "3.10.9"
  },
  "orig_nbformat": 4,
  "vscode": {
   "interpreter": {
    "hash": "b14f34a08619f4a218d80d7380beed3f0c712c89ff93e7183219752d640ed427"
   }
  }
 },
 "nbformat": 4,
 "nbformat_minor": 2
}
