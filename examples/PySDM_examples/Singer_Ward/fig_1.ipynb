{
 "cells": [
  {
   "cell_type": "markdown",
   "metadata": {},
   "source": [
    "## Figure 1\n",
    "Particle surface tension for given wet radius under different assumptions of surface-partitioning by organics"
   ]
  },
  {
   "cell_type": "code",
   "execution_count": 1,
   "metadata": {},
   "outputs": [],
   "source": [
    "import sys\n",
    "if 'google.colab' in sys.modules:\n",
    "    !pip --quiet install \"open_atmos_jupyter_utils\"\n",
    "    from open_atmos_jupyter_utils import pip_install_on_colab\n",
    "    pip_install_on_colab('PySDM-examples')"
   ]
  },
  {
   "cell_type": "code",
   "execution_count": 2,
   "metadata": {},
   "outputs": [],
   "source": [
    "import warnings\n",
    "from numba.core.errors import NumbaExperimentalFeatureWarning\n",
    "import numpy as np\n",
    "\n",
    "from matplotlib import pyplot\n",
    "from open_atmos_jupyter_utils import show_plot\n",
    "\n",
    "from PySDM import Formulae\n",
    "from PySDM.physics import si\n",
    "\n",
    "from PySDM_examples.Singer_Ward.aerosol import AerosolBetaCaryophylleneDark\n",
    "from PySDM_examples.Singer_Ward.constants_def import SINGER_CONSTS, plot_colors, plot_lines, plot_names"
   ]
  },
  {
   "cell_type": "code",
   "execution_count": 3,
   "metadata": {},
   "outputs": [],
   "source": [
    "# aerosol creation\n",
    "FORMULAE = Formulae(constants=SINGER_CONSTS)\n",
    "WATER_MOLAR_VOLUME = FORMULAE.constants.water_molar_volume\n",
    "aerosol = AerosolBetaCaryophylleneDark(water_molar_volume=WATER_MOLAR_VOLUME, Forg=0.5, N_a=200)\n",
    "\n",
    "# formulae creation\n",
    "formulae_bulk = Formulae(surface_tension='Constant', constants=SINGER_CONSTS)\n",
    "formulae_ovad = Formulae(\n",
    "    surface_tension='CompressedFilmOvadnevaite',\n",
    "    constants={\n",
    "        **SINGER_CONSTS,\n",
    "        'sgm_org': 25e-3 * si.J / si.m**2,\n",
    "        'delta_min': 4e-10 * si.m,\n",
    "    }\n",
    ")\n",
    "formulae_sl = Formulae(\n",
    "    surface_tension='SzyszkowskiLangmuir',\n",
    "    constants={\n",
    "        **SINGER_CONSTS,\n",
    "        'RUEHL_nu_org': aerosol.modes[0]['nu_org'],\n",
    "        'RUEHL_A0': 75e-20 * si.m**2,\n",
    "        'RUEHL_C0': np.exp(-15),\n",
    "        'RUEHL_sgm_min': 25e-3 * si.J / si.m**2,\n",
    "    }\n",
    ")\n",
    "formulae_ruehl = Formulae(\n",
    "    surface_tension='CompressedFilmRuehl',\n",
    "    constants={\n",
    "        **SINGER_CONSTS,\n",
    "        'RUEHL_nu_org': aerosol.modes[0]['nu_org'],\n",
    "        'RUEHL_A0': 75e-20 * si.m**2,\n",
    "        'RUEHL_C0': np.exp(-15),\n",
    "        'RUEHL_sgm_min': 25e-3 * si.J / si.m**2,\n",
    "        'RUEHL_m_sigma': 15e16 * si.J / si.m**4,\n",
    "    }\n",
    ")\n",
    "\n",
    "# aerosol and thermodynamic conditions\n",
    "T = 300 * si.K\n",
    "r_dry = 50 * si.nm\n",
    "v_dry = formulae_ovad.trivia.volume(r_dry)\n",
    "\n",
    "# plotting info\n",
    "r_wet = np.logspace(np.log(50 * si.nm), np.log(2000 * si.nm), base=np.e, num=100)\n",
    "v_wet = formulae_ovad.trivia.volume(r_wet)\n",
    "r_wet_ticks_nm = (100, 200, 300, 500, 1000, 2000)"
   ]
  },
  {
   "cell_type": "code",
   "execution_count": 4,
   "metadata": {},
   "outputs": [
    {
     "name": "stdout",
     "output_type": "stream",
     "text": [
      "Constant\n",
      "CompressedFilmOvadnevaite\n",
      "SzyszkowskiLangmuir\n",
      "CompressedFilmRuehl\n"
     ]
    },
    {
     "data": {
      "text/plain": [
       "Text(0.5, 0, 'Wet radius [nm]')"
      ]
     },
     "execution_count": 4,
     "metadata": {},
     "output_type": "execute_result"
    },
    {
     "data": {
      "image/png": "[encoded data removed]",
      "text/plain": [
       "<Figure size 432x216 with 1 Axes>"
      ]
     },
     "metadata": {
      "needs_background": "light"
     },
     "output_type": "display_data"
    }
   ],
   "source": [
    "fig,ax = pyplot.subplots(1, 1, figsize=(6,3), sharex=True, sharey=False)\n",
    "\n",
    "for formulae in (formulae_bulk, formulae_ovad, formulae_sl, formulae_ruehl):\n",
    "    model = formulae.surface_tension.__name__\n",
    "    sigma = np.ones(len(v_wet))\n",
    "    print(model)\n",
    "    if model in (\"CompressedFilmRuehl\", \"SzyszkowskiLangmuir\"):\n",
    "        for j,vw in enumerate(v_wet):\n",
    "            with warnings.catch_warnings():\n",
    "                warnings.simplefilter('ignore', category=NumbaExperimentalFeatureWarning)\n",
    "                sigma[j] = formulae.surface_tension.sigma(T, vw, v_dry, aerosol.modes[0]['f_org'])\n",
    "    else:\n",
    "        sigma = formulae.surface_tension.sigma(T, v_wet, v_dry, aerosol.modes[0]['f_org'])\n",
    "    \n",
    "    RH_eq = formulae.hygroscopicity.RH_eq(r_wet, T, aerosol.modes[0]['kappa'][model], r_dry**3, sigma)\n",
    "\n",
    "    if not type(sigma) is type(v_wet):\n",
    "        sigma = np.ones(len(v_wet)) * sigma\n",
    "    # plot surface tension\n",
    "    ax.plot(\n",
    "        r_wet / si.nm,\n",
    "        sigma / (si.mJ / si.m**2),\n",
    "        label=plot_names[model], \n",
    "        color=plot_colors[model],\n",
    "        linestyle=plot_lines[model]\n",
    "    )\n",
    "\n",
    "# plot attributes\n",
    "ax.grid()\n",
    "ax.set_xscale('log')\n",
    "ax.set_xticks(r_wet_ticks_nm, r_wet_ticks_nm)\n",
    "ax.set_xlim(r_wet[0] / si.nm, r_wet[-1] / si.nm)\n",
    "ax.set_ylabel('Surface tension [mJ m$^{-2}$]')\n",
    "yticks = (20, 30, 40, 50, 60, 70, 80)\n",
    "ax.set_yticks(yticks, yticks)\n",
    "ax.set_ylim(20, 80)\n",
    "ax.set_xlim(100, 2000)\n",
    "ax.legend(loc=4)\n",
    "ax.set_xlabel('Wet radius [nm]')\n",
    "\n",
    "# show_plot(\"fig1.pdf\")"
   ]
  },
  {
   "cell_type": "code",
   "execution_count": null,
   "metadata": {},
   "outputs": [],
   "source": []
  }
 ],
 "metadata": {
  "kernelspec": {
   "display_name": "Python 3.10.9 ('pysdm')",
   "language": "python",
   "name": "python3"
  },
  "language_info": {
   "codemirror_mode": {
    "name": "ipython",
    "version": 3
   },
   "file_extension": ".py",
   "mimetype": "text/x-python",
   "name": "python",
   "nbconvert_exporter": "python",
   "pygments_lexer": "ipython3",
   "version": "3.10.9"
  },
  "orig_nbformat": 4,
  "vscode": {
   "interpreter": {
    "hash": "b14f34a08619f4a218d80d7380beed3f0c712c89ff93e7183219752d640ed427"
   }
  }
 },
 "nbformat": 4,
 "nbformat_minor": 2
}
